{
 "cells": [
  {
   "cell_type": "markdown",
   "metadata": {},
   "source": [
    "# One way ANOVA\n",
    "Однофакторный дисперсионный анализ"
   ]
  },
  {
   "cell_type": "code",
   "execution_count": 1,
   "metadata": {},
   "outputs": [],
   "source": [
    "import pandas as pd\n",
    "import numpy as np\n",
    "import scipy.stats as stats\n",
    "import matplotlib.pyplot as plt"
   ]
  },
  {
   "cell_type": "markdown",
   "metadata": {},
   "source": [
    "4 типа терапии: A,B,C,D  \n",
    "для каждого значения уровень экспрессии гена"
   ]
  },
  {
   "cell_type": "code",
   "execution_count": 2,
   "metadata": {},
   "outputs": [],
   "source": [
    "data = pd.read_csv('genetherapy.csv')"
   ]
  },
  {
   "cell_type": "code",
   "execution_count": 3,
   "metadata": {},
   "outputs": [
    {
     "data": {
      "text/html": [
       "<div>\n",
       "<style scoped>\n",
       "    .dataframe tbody tr th:only-of-type {\n",
       "        vertical-align: middle;\n",
       "    }\n",
       "\n",
       "    .dataframe tbody tr th {\n",
       "        vertical-align: top;\n",
       "    }\n",
       "\n",
       "    .dataframe thead th {\n",
       "        text-align: right;\n",
       "    }\n",
       "</style>\n",
       "<table border=\"1\" class=\"dataframe\">\n",
       "  <thead>\n",
       "    <tr style=\"text-align: right;\">\n",
       "      <th></th>\n",
       "      <th>expr</th>\n",
       "      <th>Therapy</th>\n",
       "    </tr>\n",
       "  </thead>\n",
       "  <tbody>\n",
       "    <tr>\n",
       "      <th>0</th>\n",
       "      <td>100</td>\n",
       "      <td>A</td>\n",
       "    </tr>\n",
       "    <tr>\n",
       "      <th>1</th>\n",
       "      <td>96</td>\n",
       "      <td>A</td>\n",
       "    </tr>\n",
       "    <tr>\n",
       "      <th>2</th>\n",
       "      <td>101</td>\n",
       "      <td>A</td>\n",
       "    </tr>\n",
       "    <tr>\n",
       "      <th>3</th>\n",
       "      <td>95</td>\n",
       "      <td>A</td>\n",
       "    </tr>\n",
       "    <tr>\n",
       "      <th>4</th>\n",
       "      <td>103</td>\n",
       "      <td>A</td>\n",
       "    </tr>\n",
       "  </tbody>\n",
       "</table>\n",
       "</div>"
      ],
      "text/plain": [
       "   expr Therapy\n",
       "0   100       A\n",
       "1    96       A\n",
       "2   101       A\n",
       "3    95       A\n",
       "4   103       A"
      ]
     },
     "execution_count": 3,
     "metadata": {},
     "output_type": "execute_result"
    }
   ],
   "source": [
    "data.head()"
   ]
  },
  {
   "cell_type": "code",
   "execution_count": 4,
   "metadata": {},
   "outputs": [
    {
     "data": {
      "text/html": [
       "<div>\n",
       "<style scoped>\n",
       "    .dataframe tbody tr th:only-of-type {\n",
       "        vertical-align: middle;\n",
       "    }\n",
       "\n",
       "    .dataframe tbody tr th {\n",
       "        vertical-align: top;\n",
       "    }\n",
       "\n",
       "    .dataframe thead tr th {\n",
       "        text-align: left;\n",
       "    }\n",
       "\n",
       "    .dataframe thead tr:last-of-type th {\n",
       "        text-align: right;\n",
       "    }\n",
       "</style>\n",
       "<table border=\"1\" class=\"dataframe\">\n",
       "  <thead>\n",
       "    <tr>\n",
       "      <th></th>\n",
       "      <th colspan=\"3\" halign=\"left\">expr</th>\n",
       "    </tr>\n",
       "    <tr>\n",
       "      <th></th>\n",
       "      <th>mean</th>\n",
       "      <th>count</th>\n",
       "      <th>std</th>\n",
       "    </tr>\n",
       "    <tr>\n",
       "      <th>Therapy</th>\n",
       "      <th></th>\n",
       "      <th></th>\n",
       "      <th></th>\n",
       "    </tr>\n",
       "  </thead>\n",
       "  <tbody>\n",
       "    <tr>\n",
       "      <th>A</th>\n",
       "      <td>99.733333</td>\n",
       "      <td>15</td>\n",
       "      <td>4.165619</td>\n",
       "    </tr>\n",
       "    <tr>\n",
       "      <th>B</th>\n",
       "      <td>98.800000</td>\n",
       "      <td>15</td>\n",
       "      <td>5.894307</td>\n",
       "    </tr>\n",
       "    <tr>\n",
       "      <th>C</th>\n",
       "      <td>94.400000</td>\n",
       "      <td>15</td>\n",
       "      <td>5.193402</td>\n",
       "    </tr>\n",
       "    <tr>\n",
       "      <th>D</th>\n",
       "      <td>92.333333</td>\n",
       "      <td>15</td>\n",
       "      <td>3.735289</td>\n",
       "    </tr>\n",
       "  </tbody>\n",
       "</table>\n",
       "</div>"
      ],
      "text/plain": [
       "              expr                \n",
       "              mean count       std\n",
       "Therapy                           \n",
       "A        99.733333    15  4.165619\n",
       "B        98.800000    15  5.894307\n",
       "C        94.400000    15  5.193402\n",
       "D        92.333333    15  3.735289"
      ]
     },
     "execution_count": 4,
     "metadata": {},
     "output_type": "execute_result"
    }
   ],
   "source": [
    "data.groupby('Therapy').agg({'count', 'mean', np.std})"
   ]
  },
  {
   "cell_type": "markdown",
   "metadata": {},
   "source": [
    "По 15 наблюдений в каждой из 4х групп  \n",
    "\n",
    "H0: mean1 = mean2 = mean3 = mean4  \n",
    "H1: meani != mean"
   ]
  },
  {
   "cell_type": "code",
   "execution_count": 5,
   "metadata": {},
   "outputs": [
    {
     "data": {
      "text/plain": [
       "[[100, 96, 101, 95, 103, 99, 97, 96, 98, 106, 106, 104, 95, 95, 105],\n",
       " [100, 100, 95, 84, 101, 101, 95, 106, 105, 97, 103, 94, 94, 100, 107],\n",
       " [91, 96, 94, 96, 91, 85, 98, 93, 100, 85, 101, 101, 90, 98, 97],\n",
       " [92, 85, 95, 89, 91, 91, 99, 94, 97, 94, 87, 93, 96, 92, 90]]"
      ]
     },
     "execution_count": 5,
     "metadata": {},
     "output_type": "execute_result"
    }
   ],
   "source": [
    "samples=[list(frame) for group,frame in data.groupby('Therapy')['expr']]\n",
    "samples # список значений для каждой группы"
   ]
  },
  {
   "cell_type": "code",
   "execution_count": 6,
   "metadata": {},
   "outputs": [
    {
     "data": {
      "text/plain": [
       "F_onewayResult(statistic=8.03730248114399, pvalue=0.00015249722895229536)"
      ]
     },
     "execution_count": 6,
     "metadata": {},
     "output_type": "execute_result"
    }
   ],
   "source": [
    "stats.f_oneway(*samples)"
   ]
  },
  {
   "cell_type": "markdown",
   "metadata": {},
   "source": [
    "Вероятность получить F=8.03 и более (при односторонннем правом критерии) = 0.0001 < 0.05 => **H0 отклоняем**  \n",
    "Есть хотя бы одно среднее значимо отличное от других"
   ]
  },
  {
   "cell_type": "code",
   "execution_count": 7,
   "metadata": {},
   "outputs": [],
   "source": [
    "# Внутригрупповая сумма квадратов (различия данных в каждой группе)\n",
    "def ssw(main_data: pd.DataFrame, group_col: str, value_col: str):\n",
    "    group_names = data[group_col].unique()\n",
    "    # (значение в группе - общее среднее) в квадрате\n",
    "    return np.sum([\n",
    "        (\n",
    "            main_data.loc[main_data[group_col] == group, value_col] -\n",
    "            main_data.loc[main_data[group_col] == group, value_col].mean()\n",
    "        ) ** 2\n",
    "        for group in group_names\n",
    "    ])\n",
    "\n",
    "# междугрупповая сумма квадратов\n",
    "def ssb(main_data: pd.DataFrame, group_col: str, value_col: str):\n",
    "    group_names = data[group_col].unique()\n",
    "    overall_mean = main_data[value_col].mean()\n",
    "    # число наблюдений в группе * (среднее группы - общее среднее) в квадрате\n",
    "    return np.sum([\n",
    "        len(main_data.loc[main_data[group_col] == group, value_col]) * (\n",
    "            main_data.loc[main_data[group_col] == group, value_col].mean() -\n",
    "            overall_mean\n",
    "        ) ** 2\n",
    "        for group in group_names\n",
    "    ])"
   ]
  },
  {
   "cell_type": "code",
   "execution_count": 8,
   "metadata": {},
   "outputs": [],
   "source": [
    "N = len(data) # число наблюдений\n",
    "m = data['Therapy'].nunique() # число групп\n",
    "\n",
    "# степени свободы\n",
    "ssb_df = m - 1\n",
    "ssw_df = N - m"
   ]
  },
  {
   "cell_type": "code",
   "execution_count": 9,
   "metadata": {
    "scrolled": true
   },
   "outputs": [
    {
     "name": "stdout",
     "output_type": "stream",
     "text": [
      "           Df   Sum Sq Mean Sq F-value p-value\n",
      "Therapy     3   560.72  186.91    8.04  0.0002\n",
      "Residuals  56  1302.27   23.25                \n"
     ]
    }
   ],
   "source": [
    "SSW = ssw(data, 'Therapy', 'expr')\n",
    "SSB = ssb(data, 'Therapy', 'expr')\n",
    "\n",
    "f_val, p_val = stats.f_oneway(*samples)\n",
    "\n",
    "anova_results = pd.DataFrame([\n",
    "{\n",
    "        'Df': ssb_df,\n",
    "        'Sum Sq': '{0:.2f}'.format(SSB),\n",
    "        'Mean Sq': '{0:.2f}'.format(SSB / ssb_df),\n",
    "        'F-value': '{0:.2f}'.format(f_val),\n",
    "        'p-value': '{0:.4f}'.format(p_val),\n",
    "    },\n",
    "    {\n",
    "        'Df': ssw_df,\n",
    "        'Sum Sq': '{0:.2f}'.format(SSW),\n",
    "        'Mean Sq': '{0:.2f}'.format(SSW / ssw_df),\n",
    "        'F-value': '',\n",
    "        'p-value': '',\n",
    "    },\n",
    "], index=['Therapy', 'Residuals'])\n",
    "\n",
    "print(anova_results)\n",
    "# Residuals - внутригрупповая изменчивость"
   ]
  },
  {
   "cell_type": "code",
   "execution_count": 10,
   "metadata": {},
   "outputs": [
    {
     "data": {
      "image/png": "[encoded data removed]",
      "text/plain": [
       "<Figure size 432x288 with 1 Axes>"
      ]
     },
     "metadata": {
      "needs_background": "light"
     },
     "output_type": "display_data"
    }
   ],
   "source": [
    "# ДИ\n",
    "#выставляем уровень значимости\n",
    "p = 0.95\n",
    "\n",
    "data_agg = data.groupby(['Therapy']).agg(['count','mean','std'])\n",
    "#для каждой выборки высчитываем интервал по формуле для t-распределения: (K * se), где \n",
    "#K t-value, зависит от степеней свободы df = n-1 и целевого значения вероятности p, \n",
    "#se - стандартная ошибка среднего = std/sqrt(n), std - стандартное отклонение выборки, n - количество элементов \n",
    "data_agg['interval'] = stats.t.ppf((1 + p)/2, data_agg['expr']['count']-1)*data_agg['expr']['std']/(data_agg['expr']['count'] ** 0.5)\n",
    "\n",
    "#cтроим доверительные интервалы на графике\n",
    "plt.errorbar(x='Therapy ' + data_agg.index, y=data_agg['expr']['mean'], yerr=data_agg['interval'], color=\"black\", capsize=3, marker=\"s\", markersize=4, mfc=\"red\", mec=\"black\", fmt ='o')\n",
    "plt.title('Уровень экспрессии гена при различной терапии')\n",
    "plt.grid()\n",
    "plt.xlabel('therapy')\n",
    "plt.ylabel('Уровень экспрессии')\n",
    "plt.show()"
   ]
  },
  {
   "cell_type": "markdown",
   "metadata": {},
   "source": [
    "Группы A,B вообще не пересекаются с группой D  \n",
    "Средние не попадают в ДИ друг друга  \n",
    "H0 о равенстве средних групп отклоняем"
   ]
  },
  {
   "cell_type": "markdown",
   "metadata": {},
   "source": [
    "# сравнение каждой группы с поправкой критерий Тьюки (Tukey HSD)"
   ]
  },
  {
   "cell_type": "code",
   "execution_count": 11,
   "metadata": {},
   "outputs": [],
   "source": [
    "from statsmodels.stats.multicomp import (pairwise_tukeyhsd, MultiComparison)"
   ]
  },
  {
   "cell_type": "code",
   "execution_count": 12,
   "metadata": {},
   "outputs": [
    {
     "name": "stdout",
     "output_type": "stream",
     "text": [
      " Multiple Comparison of Means - Tukey HSD, FWER=0.05 \n",
      "=====================================================\n",
      "group1 group2 meandiff p-adj   lower    upper  reject\n",
      "-----------------------------------------------------\n",
      "     A      B  -0.9333    0.9  -5.5961  3.7294  False\n",
      "     A      C  -5.3333 0.0189  -9.9961 -0.6706   True\n",
      "     A      D     -7.4  0.001 -12.0628 -2.7372   True\n",
      "     B      C     -4.4 0.0712  -9.0628  0.2628  False\n",
      "     B      D  -6.4667 0.0029 -11.1294 -1.8039   True\n",
      "     C      D  -2.0667 0.6296  -6.7294  2.5961  False\n",
      "-----------------------------------------------------\n"
     ]
    }
   ],
   "source": [
    "# попарное сравнение каждой группы с каждой\n",
    "# se оштбка считается иначе\n",
    "MultiComp = MultiComparison(data['expr'], data['Therapy'])\n",
    "\n",
    "print(MultiComp.tukeyhsd().summary())\n",
    "# разница, p-знач, нижняя грань, верхняя грань"
   ]
  },
  {
   "cell_type": "code",
   "execution_count": 13,
   "metadata": {},
   "outputs": [
    {
     "data": {
      "image/png": "[encoded data removed]",
      "text/plain": [
       "<Figure size 720x432 with 1 Axes>"
      ]
     },
     "execution_count": 13,
     "metadata": {},
     "output_type": "execute_result"
    },
    {
     "data": {
      "image/png": "[encoded data removed]",
      "text/plain": [
       "<Figure size 720x432 with 1 Axes>"
      ]
     },
     "metadata": {
      "needs_background": "light"
     },
     "output_type": "display_data"
    }
   ],
   "source": [
    "MultiComp.tukeyhsd().plot_simultaneous()"
   ]
  },
  {
   "cell_type": "markdown",
   "metadata": {},
   "source": [
    "Если p < 0.05 или 0 не включен в ДИ, то H0 отклоняем и группы значимо различаются между собой  \n",
    "Отличающиеся группы: AC, AD, BD"
   ]
  },
  {
   "cell_type": "code",
   "execution_count": null,
   "metadata": {},
   "outputs": [],
   "source": []
  }
 ],
 "metadata": {
  "kernelspec": {
   "display_name": "Python 3",
   "language": "python",
   "name": "python3"
  },
  "language_info": {
   "codemirror_mode": {
    "name": "ipython",
    "version": 3
   },
   "file_extension": ".py",
   "mimetype": "text/x-python",
   "name": "python",
   "nbconvert_exporter": "python",
   "pygments_lexer": "ipython3",
   "version": "3.8.3"
  }
 },
 "nbformat": 4,
 "nbformat_minor": 4
}
