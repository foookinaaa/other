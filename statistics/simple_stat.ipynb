{
 "cells": [
  {
   "cell_type": "code",
   "execution_count": 1,
   "metadata": {},
   "outputs": [],
   "source": [
    "import numpy as np"
   ]
  },
  {
   "cell_type": "code",
   "execution_count": 2,
   "metadata": {},
   "outputs": [
    {
     "data": {
      "text/plain": [
       "120"
      ]
     },
     "execution_count": 2,
     "metadata": {},
     "output_type": "execute_result"
    }
   ],
   "source": [
    "from math import factorial\n",
    "factorial(5)"
   ]
  },
  {
   "cell_type": "code",
   "execution_count": 3,
   "metadata": {},
   "outputs": [
    {
     "data": {
      "text/plain": [
       "0.5"
      ]
     },
     "execution_count": 3,
     "metadata": {},
     "output_type": "execute_result"
    }
   ],
   "source": [
    "from scipy import stats as st\n",
    "\n",
    "# задаем нормальное распределение\n",
    "distr = st.norm(1000, 100)\n",
    "x = 1000\n",
    "result = distr.cdf(x) # считаем вероятность получить значение не больше x\n",
    "result"
   ]
  },
  {
   "cell_type": "code",
   "execution_count": 4,
   "metadata": {},
   "outputs": [
    {
     "data": {
      "text/plain": [
       "0.6826894921370859"
      ]
     },
     "execution_count": 4,
     "metadata": {},
     "output_type": "execute_result"
    }
   ],
   "source": [
    "# задаем нормальное распределение\n",
    "distr = st.norm(1000, 100)\n",
    "x1 = 900\n",
    "x2 = 1100\n",
    "result = distr.cdf(x2) - distr.cdf(x1) # считаем вероятность получить значение между x1 и x2\n",
    "result"
   ]
  },
  {
   "cell_type": "code",
   "execution_count": 5,
   "metadata": {},
   "outputs": [
    {
     "data": {
      "text/plain": [
       "1099.999999971673"
      ]
     },
     "execution_count": 5,
     "metadata": {},
     "output_type": "execute_result"
    }
   ],
   "source": [
    "# задаем нормальное распределение\n",
    "distr = st.norm(1000, 100)\n",
    "p1 = 0.841344746\n",
    "result = distr.ppf(p1) # получить значение слева от которого 84% значений\n",
    "result"
   ]
  },
  {
   "cell_type": "code",
   "execution_count": 6,
   "metadata": {},
   "outputs": [
    {
     "name": "stdout",
     "output_type": "stream",
     "text": [
      "p-значение:  0.3313256879217542\n"
     ]
    }
   ],
   "source": [
    "#  проверки гипотезы о равенстве среднего генеральной совокупности некоторому значению\n",
    "interested_value = 120 # предполагаемое значение среднего\n",
    "array = [1, 3, 45, 4000, 80, 55000] # массив, содержащий выборку\n",
    "results = st.ttest_1samp(array, interested_value)\n",
    "print('p-значение: ', results.pvalue)\n",
    "#p > 0.05 => H0 о равенстве стреднего 120 принимаем"
   ]
  },
  {
   "cell_type": "code",
   "execution_count": 7,
   "metadata": {},
   "outputs": [
    {
     "name": "stdout",
     "output_type": "stream",
     "text": [
      "p-значение:  0.29031205099950014\n"
     ]
    }
   ],
   "source": [
    "# гипотезу о равенстве среднего двух генеральных совокупностей по взятым из них выборкам\n",
    "sample_1 = [1,2,3,5,6]\n",
    "sample_2 = [1,3,6,8,9]\n",
    "# equal_var - необязательный параметр, задающий считать ли равными дисперсии выборок\n",
    "results = st.ttest_ind(sample_1, sample_2)\n",
    "print('p-значение: ', results.pvalue)\n",
    "#p > 0.05 => H0 о равенстве стредних выборок принимаем"
   ]
  },
  {
   "cell_type": "code",
   "execution_count": 8,
   "metadata": {},
   "outputs": [
    {
     "name": "stdout",
     "output_type": "stream",
     "text": [
      "p-значение:  0.034109423167409635\n"
     ]
    }
   ],
   "source": [
    "# Когда генеральная совокупность одна, равно ли себе среднее этой совокупности до и после изменения. \n",
    "# Парная выборка - мы измеряем некоторую переменную для одних и тех же единиц. \n",
    "# проверить гипотезу о равенстве средних двух генеральных совокупностей для зависимых (парных) выборок \n",
    "before = [1,2,3,5,6]\n",
    "after = [1,3,6,8,9]\n",
    "results = st.ttest_rel(before, after)\n",
    "print('p-значение: ', results.pvalue)\n",
    "#p < 0.05 => H0 о равенстве стредних парной выборки отклоняем"
   ]
  },
  {
   "cell_type": "code",
   "execution_count": null,
   "metadata": {},
   "outputs": [],
   "source": [
    "# # тест на равенство дисперсий\n",
    "# # H0: дисперсии выборок равны\n",
    "# # HA: дисперсии выборок различны\n",
    "# st.levene(sample_1, sample_2).pvalue\n",
    "# # pv > 0.05 - принимаем H0, \n",
    "# # значит при проверке равенства средних значений будем использовать параметр equal_var по умолчанию (True)"
   ]
  },
  {
   "cell_type": "code",
   "execution_count": null,
   "metadata": {},
   "outputs": [],
   "source": []
  }
 ],
 "metadata": {
  "kernelspec": {
   "display_name": "Python 3",
   "language": "python",
   "name": "python3"
  },
  "language_info": {
   "codemirror_mode": {
    "name": "ipython",
    "version": 3
   },
   "file_extension": ".py",
   "mimetype": "text/x-python",
   "name": "python",
   "nbconvert_exporter": "python",
   "pygments_lexer": "ipython3",
   "version": "3.8.3"
  }
 },
 "nbformat": 4,
 "nbformat_minor": 4
}
