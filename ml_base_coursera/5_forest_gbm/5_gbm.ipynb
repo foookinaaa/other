{
 "cells": [
  {
   "cell_type": "markdown",
   "metadata": {},
   "source": [
    "# Градиентный бустинг над решающими деревьями"
   ]
  },
  {
   "attachments": {
    "image.png": {
     "image/png": "[encoded data removed]"
    }
   },
   "cell_type": "markdown",
   "metadata": {},
   "source": [
    "###### Введение\n",
    "Построение композиции — важный подход в машинном обучении, который позволяет объединять большое количество слабых алгоритмов в один сильный. Данный подход широко используется на практике в самых разных задачах.\n",
    "\n",
    "На лекциях был рассмотрен метод градиентного бустинга, который последовательно строит композицию алгоритмов, причем каждый следующий алгоритм выбирается так, чтобы исправлять ошибки уже имеющейся композиции. Обычно в качестве базовых алгоритмов используют деревья небольшой глубины, поскольку их достаточно легко строить, и при этом они дают нелинейные разделяющие поверхности.\n",
    "\n",
    "Другой метод построения композиций — случайный лес. В нем, в отличие от градиентного бустинга, отдельные деревья строятся независимо и без каких-либо ограничений на глубину — дерево наращивается до тех пор, пока не покажет наилучшее качество на обучающей выборке.\n",
    "\n",
    "В этом задании мы будем иметь дело с задачей классификации. В качестве функции потерь будем использовать log-loss:\n",
    "\n",
    "![image.png](attachment:image.png)\n",
    "Здесь через y обозначен истинный ответ, через z — прогноз алгоритма. Данная функция является дифференцируемой, и поэтому подходит для использования в градиентном бустинге. Также можно показать, что при ее использовании итоговый алгоритм будет приближать истинные вероятности классов."
   ]
  },
  {
   "cell_type": "markdown",
   "metadata": {},
   "source": [
    "###### Реализация в sklearn\n",
    "В пакете scikit-learn градиентный бустинг реализован в модуле ensemble в виде классов GradientBoostingClassifier и GradientBoostingRegressor. Основные параметры, которые будут интересовать нас: n_estimators, learning_rate. Иногда может быть полезен параметр verbose для отслеживания процесса обучения.\n",
    "\n",
    "Чтобы была возможность оценить качество построенной композиции на каждой итерации, у класса есть метод staged_decision_function. Для заданной выборки он возвращает ответ на каждой итерации.\n",
    "\n",
    "Помимо алгоритмов машинного обучения, в пакете scikit-learn представлено большое число различных инструментов. В этом задании будет предложено воспользоваться функцией train_test_split модуля cross_validation. С помощью нее можно разбивать выборки случайным образом. На вход можно передать несколько выборок (с условием, что они имеют одинаковое количество строк). Пусть, например, имеются данные X и y, где X — это признаковое описание объектов, y — целевое значение. Тогда следующий код будет удобен для разбиения этих данных на обучающее и тестовое множества:  \n",
    "(Обратите внимание, что при фиксированном параметре random_state результат разбиения можно воспроизвести.)"
   ]
  },
  {
   "cell_type": "code",
   "execution_count": null,
   "metadata": {},
   "outputs": [],
   "source": [
    "# X_train, X_test, y_train, y_test = \n",
    "#                      train_test_split(X, y, \n",
    "#                                       test_size=0.33, \n",
    "#                                       random_state=42)"
   ]
  },
  {
   "cell_type": "markdown",
   "metadata": {},
   "source": [
    "Метрика log-loss реализована в пакете metrics: sklearn.metrics.log_loss. Заметим, что данная метрика предназначена для классификаторов, выдающих оценку принадлежности классу, а не бинарные ответы. И градиентный бустинг, и случайный лес умеют строить такие прогнозы — для этого нужно использовать метод predict_proba:  \n",
    "Метод predict_proba возвращает матрицу, i-й столбец которой содержит оценки принадлежности i-му классу. "
   ]
  },
  {
   "cell_type": "code",
   "execution_count": null,
   "metadata": {},
   "outputs": [],
   "source": [
    "# pred = clf.predict_proba(X_test)"
   ]
  },
  {
   "cell_type": "markdown",
   "metadata": {},
   "source": [
    "Для рисования кривых качества на обучении и контроле можно воспользоваться следующим кодом:"
   ]
  },
  {
   "cell_type": "code",
   "execution_count": null,
   "metadata": {},
   "outputs": [],
   "source": [
    "# import matplotlib.pyplot as plt\n",
    "# %matplotlib inline\n",
    "# plt.figure()\n",
    "# plt.plot(test_loss, 'r', linewidth=2)\n",
    "# plt.plot(train_loss, 'g', linewidth=2)\n",
    "# plt.legend(['test', 'train'])"
   ]
  },
  {
   "cell_type": "code",
   "execution_count": null,
   "metadata": {},
   "outputs": [],
   "source": []
  },
  {
   "cell_type": "markdown",
   "metadata": {},
   "source": [
    "Загрузите выборку из файла gbm-data.csv с помощью pandas и преобразуйте ее в массив numpy (параметр values у датафрейма). В первой колонке файла с данными записано, была или нет реакция. Все остальные колонки (d1 - d1776) содержат различные характеристики молекулы, такие как размер, форма и т.д. Разбейте выборку на обучающую и тестовую, используя функцию train_test_split с параметрами test_size = 0.8 и random_state = 241. "
   ]
  },
  {
   "cell_type": "code",
   "execution_count": 55,
   "metadata": {},
   "outputs": [],
   "source": [
    "import pandas as pd\n",
    "import numpy as np\n",
    "from sklearn.model_selection import train_test_split\n",
    "from sklearn.ensemble import GradientBoostingClassifier\n",
    "from sklearn.ensemble import RandomForestClassifier\n",
    "from sklearn.metrics import log_loss\n",
    "import matplotlib.pyplot as plt\n",
    "%matplotlib inline"
   ]
  },
  {
   "cell_type": "code",
   "execution_count": 2,
   "metadata": {},
   "outputs": [],
   "source": [
    "data = pd.read_csv('gbm-data.csv')"
   ]
  },
  {
   "cell_type": "code",
   "execution_count": 6,
   "metadata": {},
   "outputs": [],
   "source": [
    "# data_np = data.values"
   ]
  },
  {
   "cell_type": "code",
   "execution_count": 3,
   "metadata": {},
   "outputs": [],
   "source": [
    "X = data.iloc[:,1:]\n",
    "y = data.iloc[:,0]"
   ]
  },
  {
   "cell_type": "code",
   "execution_count": 4,
   "metadata": {},
   "outputs": [],
   "source": [
    "X_train, X_test, y_train, y_test = train_test_split(X, y, \n",
    "                                      test_size=0.8, \n",
    "                                      random_state=241)"
   ]
  },
  {
   "cell_type": "markdown",
   "metadata": {},
   "source": [
    "Обучите GradientBoostingClassifier с параметрами n_estimators=250, verbose=True, random_state=241 и для каждого значения learning_rate из списка [1, 0.5, 0.3, 0.2, 0.1] проделайте следующее:\n",
    "- Используйте метод staged_decision_function для предсказания качества на обучающей и тестовой выборке на каждой итерации.\n",
    "- Преобразуйте полученное предсказание с помощью сигмоидной функции по формуле 1 / (1 + e^{−y_pred}), где y_pred — предсказанное значение.\n",
    "- Вычислите и постройте график значений log-loss (которую можно посчитать с помощью функции sklearn.metrics.log_loss) на обучающей и тестовой выборках, а также найдите минимальное значение метрики и номер итерации, на которой оно достигается."
   ]
  },
  {
   "cell_type": "code",
   "execution_count": 39,
   "metadata": {},
   "outputs": [
    {
     "name": "stdout",
     "output_type": "stream",
     "text": [
      "      Iter       Train Loss   Remaining Time \n",
      "         1           1.0190           10.44s\n",
      "         2           0.9192            8.52s\n",
      "         3           0.8272            8.23s\n",
      "         4           0.7834            9.03s\n",
      "         5           0.7109            8.72s\n",
      "         6           0.6368            9.27s\n",
      "         7           0.5797            8.76s\n",
      "         8           0.5610            9.06s\n",
      "         9           0.5185            8.85s\n",
      "        10           0.4984            8.68s\n",
      "        20           0.1999            8.71s\n",
      "        30           0.1313            8.28s\n",
      "        40           0.0790            7.86s\n",
      "        50           0.0511            7.45s\n",
      "        60           0.0352            7.01s\n",
      "        70           0.0245            6.63s\n",
      "        80           0.0162            6.26s\n",
      "        90           0.0114            5.91s\n",
      "       100           0.0077            5.54s\n",
      "       200           0.0002            1.81s\n",
      "      Iter       Train Loss   Remaining Time \n",
      "         1           1.1255            7.78s\n",
      "         2           1.0035            9.68s\n",
      "         3           0.9386            9.00s\n",
      "         4           0.8844            8.65s\n",
      "         5           0.8381            8.42s\n",
      "         6           0.7995            9.09s\n",
      "         7           0.7559            9.18s\n",
      "         8           0.7205            8.74s\n",
      "         9           0.6958            9.00s\n",
      "        10           0.6725            8.81s\n",
      "        20           0.4672            8.30s\n",
      "        30           0.3179            8.05s\n",
      "        40           0.2274            7.61s\n",
      "        50           0.1774            7.27s\n",
      "        60           0.1394            6.91s\n",
      "        70           0.1050            6.55s\n",
      "        80           0.0805            6.16s\n",
      "        90           0.0650            5.80s\n",
      "       100           0.0511            5.47s\n",
      "       200           0.0058            1.80s\n",
      "      Iter       Train Loss   Remaining Time \n",
      "         1           1.2095           11.67s\n",
      "         2           1.1006            9.68s\n",
      "         3           1.0240            9.00s\n",
      "         4           0.9729            9.61s\n",
      "         5           0.9387            9.18s\n",
      "         6           0.8948            9.70s\n",
      "         7           0.8621            9.47s\n",
      "         8           0.8360            9.20s\n",
      "         9           0.8171            8.98s\n",
      "        10           0.7883            9.17s\n",
      "        20           0.6029            8.53s\n",
      "        30           0.4760            8.07s\n",
      "        40           0.3879            7.71s\n",
      "        50           0.3325            7.28s\n",
      "        60           0.2759            6.92s\n",
      "        70           0.2304            6.56s\n",
      "        80           0.1969            6.20s\n",
      "        90           0.1718            5.81s\n",
      "       100           0.1404            5.45s\n",
      "       200           0.0358            1.80s\n",
      "      Iter       Train Loss   Remaining Time \n",
      "         1           1.2613           11.67s\n",
      "         2           1.1715            9.69s\n",
      "         3           1.1009            9.00s\n",
      "         4           1.0529            9.60s\n",
      "         5           1.0130            9.19s\n",
      "         6           0.9740            9.72s\n",
      "         7           0.9475            9.47s\n",
      "         8           0.9197            9.20s\n",
      "         9           0.8979            8.98s\n",
      "        10           0.8730            9.17s\n",
      "        20           0.7207            8.44s\n",
      "        30           0.6055            8.08s\n",
      "        40           0.5244            7.72s\n",
      "        50           0.4501            7.34s\n",
      "        60           0.3908            6.92s\n",
      "        70           0.3372            6.56s\n",
      "        80           0.3009            6.20s\n",
      "        90           0.2603            5.84s\n",
      "       100           0.2327            5.48s\n",
      "       200           0.0835            1.80s\n",
      "      Iter       Train Loss   Remaining Time \n",
      "         1           1.3199           11.67s\n",
      "         2           1.2645            9.69s\n",
      "         3           1.2170            9.00s\n",
      "         4           1.1775            9.61s\n",
      "         5           1.1404            9.19s\n",
      "         6           1.1106            9.62s\n",
      "         7           1.0844            8.93s\n",
      "         8           1.0617            9.20s\n",
      "         9           1.0411            8.98s\n",
      "        10           1.0223            8.80s\n",
      "        20           0.8864            8.53s\n",
      "        30           0.7844            8.07s\n",
      "        40           0.7176            7.71s\n",
      "        50           0.6590            7.35s\n",
      "        60           0.6120            6.98s\n",
      "        70           0.5599            6.56s\n",
      "        80           0.5242            6.20s\n",
      "        90           0.4829            5.84s\n",
      "       100           0.4473            5.48s\n",
      "       200           0.2379            1.80s\n"
     ]
    },
    {
     "data": {
      "text/html": [
       "<div>\n",
       "<style scoped>\n",
       "    .dataframe tbody tr th:only-of-type {\n",
       "        vertical-align: middle;\n",
       "    }\n",
       "\n",
       "    .dataframe tbody tr th {\n",
       "        vertical-align: top;\n",
       "    }\n",
       "\n",
       "    .dataframe thead th {\n",
       "        text-align: right;\n",
       "    }\n",
       "</style>\n",
       "<table border=\"1\" class=\"dataframe\">\n",
       "  <thead>\n",
       "    <tr style=\"text-align: right;\">\n",
       "      <th></th>\n",
       "      <th>iter</th>\n",
       "      <th>loss</th>\n",
       "      <th>lr</th>\n",
       "    </tr>\n",
       "  </thead>\n",
       "  <tbody>\n",
       "    <tr>\n",
       "      <th>51</th>\n",
       "      <td>52</td>\n",
       "      <td>0.525905</td>\n",
       "      <td>0.1</td>\n",
       "    </tr>\n",
       "  </tbody>\n",
       "</table>\n",
       "</div>"
      ],
      "text/plain": [
       "    iter      loss   lr\n",
       "51    52  0.525905  0.1"
      ]
     },
     "execution_count": 39,
     "metadata": {},
     "output_type": "execute_result"
    },
    {
     "data": {
      "image/png": "[encoded data removed]",
      "text/plain": [
       "<Figure size 432x288 with 1 Axes>"
      ]
     },
     "metadata": {
      "needs_background": "light"
     },
     "output_type": "display_data"
    },
    {
     "data": {
      "image/png": "[encoded data removed]",
      "text/plain": [
       "<Figure size 432x288 with 1 Axes>"
      ]
     },
     "metadata": {
      "needs_background": "light"
     },
     "output_type": "display_data"
    },
    {
     "data": {
      "image/png": "[encoded data removed]",
      "text/plain": [
       "<Figure size 432x288 with 1 Axes>"
      ]
     },
     "metadata": {
      "needs_background": "light"
     },
     "output_type": "display_data"
    },
    {
     "data": {
      "image/png": "[encoded data removed]",
      "text/plain": [
       "<Figure size 432x288 with 1 Axes>"
      ]
     },
     "metadata": {
      "needs_background": "light"
     },
     "output_type": "display_data"
    },
    {
     "data": {
      "image/png": "[encoded data removed]",
      "text/plain": [
       "<Figure size 432x288 with 1 Axes>"
      ]
     },
     "metadata": {
      "needs_background": "light"
     },
     "output_type": "display_data"
    }
   ],
   "source": [
    "test_loss_total = []\n",
    "lr = [1, 0.5, 0.3, 0.2, 0.1]\n",
    "for i in lr:\n",
    "    clf = GradientBoostingClassifier(n_estimators=250, verbose=True, random_state=241, learning_rate=i)\n",
    "    clf.fit(X_train, y_train)\n",
    "    \n",
    "    # Получение значений лосса по итерациям\n",
    "    test_loss = []\n",
    "    for j, y_pred in enumerate(clf.staged_decision_function(X_test)):\n",
    "        y_pred = 1.0 / (1.0 + np.exp(- y_pred))\n",
    "        test_loss.append([j + 1, log_loss(y_test, y_pred), i])\n",
    "        test_loss_total.append([j + 1, log_loss(y_test, y_pred), i])\n",
    "    test_loss = pd.DataFrame(test_loss, columns=['iter','loss', 'lr'])\n",
    "    \n",
    "    plt.figure()\n",
    "    plt.plot(test_loss['loss'], 'r', linewidth=2)\n",
    "    plt.title(f'lr = {i}')\n",
    "    \n",
    "# Извлечение значения минимального лосса\n",
    "test_loss[test_loss['loss']==test_loss['loss'].min()]"
   ]
  },
  {
   "cell_type": "markdown",
   "metadata": {},
   "source": [
    "Как можно охарактеризовать график качества на тестовой выборке, начиная с некоторой итерации: переобучение (overfitting) или недообучение (underfitting)?  \n",
    "overfitting"
   ]
  },
  {
   "cell_type": "markdown",
   "metadata": {},
   "source": [
    "Приведите минимальное значение log-loss на тестовой выборке и номер итерации, на котором оно достигается, при learning_rate = 0.2."
   ]
  },
  {
   "cell_type": "code",
   "execution_count": 47,
   "metadata": {},
   "outputs": [
    {
     "data": {
      "text/html": [
       "<div>\n",
       "<style scoped>\n",
       "    .dataframe tbody tr th:only-of-type {\n",
       "        vertical-align: middle;\n",
       "    }\n",
       "\n",
       "    .dataframe tbody tr th {\n",
       "        vertical-align: top;\n",
       "    }\n",
       "\n",
       "    .dataframe thead th {\n",
       "        text-align: right;\n",
       "    }\n",
       "</style>\n",
       "<table border=\"1\" class=\"dataframe\">\n",
       "  <thead>\n",
       "    <tr style=\"text-align: right;\">\n",
       "      <th></th>\n",
       "      <th>iter</th>\n",
       "      <th>loss</th>\n",
       "      <th>lr</th>\n",
       "    </tr>\n",
       "  </thead>\n",
       "  <tbody>\n",
       "    <tr>\n",
       "      <th>786</th>\n",
       "      <td>37</td>\n",
       "      <td>0.530165</td>\n",
       "      <td>0.2</td>\n",
       "    </tr>\n",
       "  </tbody>\n",
       "</table>\n",
       "</div>"
      ],
      "text/plain": [
       "     iter      loss   lr\n",
       "786    37  0.530165  0.2"
      ]
     },
     "execution_count": 47,
     "metadata": {},
     "output_type": "execute_result"
    }
   ],
   "source": [
    "test_loss_total = pd.DataFrame(test_loss_total, columns=['iter','loss', 'lr'])\n",
    "test_loss_total[test_loss_total['loss'] == test_loss_total[(test_loss_total['lr'] == 0.2)]['loss'].min()] "
   ]
  },
  {
   "cell_type": "markdown",
   "metadata": {},
   "source": [
    "5. На этих же данных обучите RandomForestClassifier с количеством деревьев, равным количеству итераций, на котором достигается наилучшее качество у градиентного бустинга из предыдущего пункта, c random_state=241 и остальными параметрами по умолчанию. Какое значение log-loss на тесте получается у этого случайного леса? (Не забывайте, что предсказания нужно получать с помощью функции predict_proba. В данном случае брать сигмоиду от оценки вероятности класса не нужно)"
   ]
  },
  {
   "cell_type": "code",
   "execution_count": 64,
   "metadata": {},
   "outputs": [
    {
     "data": {
      "text/plain": [
       "52"
      ]
     },
     "execution_count": 64,
     "metadata": {},
     "output_type": "execute_result"
    }
   ],
   "source": [
    "n = test_loss[test_loss['loss']==test_loss['loss'].min()]['iter'].values[0]\n",
    "n"
   ]
  },
  {
   "cell_type": "code",
   "execution_count": 65,
   "metadata": {},
   "outputs": [
    {
     "name": "stdout",
     "output_type": "stream",
     "text": [
      "0.5663426128685223\n"
     ]
    }
   ],
   "source": [
    "clf = RandomForestClassifier(n_estimators=n, random_state=241)\n",
    "clf.fit(X_train, y_train)\n",
    "clf.predict_proba(X_test)\n",
    "print(log_loss(y_test, y_pred))"
   ]
  },
  {
   "cell_type": "markdown",
   "metadata": {},
   "source": [
    "Обратите внимание, что, хотя в градиентного бустинге гораздо более слабые базовые алгоритмы, он выигрывает у случайного леса благодаря более \"направленной\" настройке — каждый следующий алгоритм исправляет ошибки имеющейся композиции. Также он обучается быстрее случайного леса благодаря использованию неглубоких деревьев. В то же время, случайный лес может показать более высокое качество при неограниченных ресурсах — так, он выиграет у градиентного бустинга на наших данных, если увеличить число деревьев до нескольких сотен (проверьте сами!)."
   ]
  }
 ],
 "metadata": {
  "kernelspec": {
   "display_name": "Python 3",
   "language": "python",
   "name": "python3"
  },
  "language_info": {
   "codemirror_mode": {
    "name": "ipython",
    "version": 3
   },
   "file_extension": ".py",
   "mimetype": "text/x-python",
   "name": "python",
   "nbconvert_exporter": "python",
   "pygments_lexer": "ipython3",
   "version": "3.8.3"
  }
 },
 "nbformat": 4,
 "nbformat_minor": 4
}
