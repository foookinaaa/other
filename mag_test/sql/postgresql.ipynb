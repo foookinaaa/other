{
 "cells": [
  {
   "cell_type": "code",
   "execution_count": 73,
   "metadata": {},
   "outputs": [],
   "source": [
    "import pandas as pd\n",
    "import numpy as np\n",
    "import datetime"
   ]
  },
  {
   "cell_type": "code",
   "execution_count": 2,
   "metadata": {},
   "outputs": [
    {
     "data": {
      "text/html": [
       "<div>\n",
       "<style scoped>\n",
       "    .dataframe tbody tr th:only-of-type {\n",
       "        vertical-align: middle;\n",
       "    }\n",
       "\n",
       "    .dataframe tbody tr th {\n",
       "        vertical-align: top;\n",
       "    }\n",
       "\n",
       "    .dataframe thead th {\n",
       "        text-align: right;\n",
       "    }\n",
       "</style>\n",
       "<table border=\"1\" class=\"dataframe\">\n",
       "  <thead>\n",
       "    <tr style=\"text-align: right;\">\n",
       "      <th></th>\n",
       "      <th>ФИО</th>\n",
       "      <th>Расписание</th>\n",
       "      <th>Дата начала расписания</th>\n",
       "      <th>Дата окончания расписания</th>\n",
       "    </tr>\n",
       "  </thead>\n",
       "  <tbody>\n",
       "    <tr>\n",
       "      <th>0</th>\n",
       "      <td>Поставщик 1</td>\n",
       "      <td>дддвсвнн</td>\n",
       "      <td>01.01.2019 0:00</td>\n",
       "      <td>10.01.2019 0:00</td>\n",
       "    </tr>\n",
       "    <tr>\n",
       "      <th>1</th>\n",
       "      <td>Поставщик 1</td>\n",
       "      <td>ннвннв</td>\n",
       "      <td>11.01.2019 0:00</td>\n",
       "      <td>15.01.2019 0:00</td>\n",
       "    </tr>\n",
       "    <tr>\n",
       "      <th>2</th>\n",
       "      <td>Поставщик 1</td>\n",
       "      <td>св</td>\n",
       "      <td>16.01.2019 0:00</td>\n",
       "      <td>20.01.2019 0:00</td>\n",
       "    </tr>\n",
       "    <tr>\n",
       "      <th>3</th>\n",
       "      <td>Поставщик 2</td>\n",
       "      <td>свсвсв</td>\n",
       "      <td>01.01.2019 0:00</td>\n",
       "      <td>07.01.2019 0:00</td>\n",
       "    </tr>\n",
       "    <tr>\n",
       "      <th>4</th>\n",
       "      <td>Поставщик 2</td>\n",
       "      <td>днвсв</td>\n",
       "      <td>08.01.2019 0:00</td>\n",
       "      <td>14.01.2019 0:00</td>\n",
       "    </tr>\n",
       "    <tr>\n",
       "      <th>5</th>\n",
       "      <td>Поставщик 2</td>\n",
       "      <td>ннддвсв</td>\n",
       "      <td>15.01.2019 0:00</td>\n",
       "      <td>31.12.9999 0:00</td>\n",
       "    </tr>\n",
       "    <tr>\n",
       "      <th>6</th>\n",
       "      <td>Поставщик 3</td>\n",
       "      <td>нвнвнв</td>\n",
       "      <td>01.01.2019 0:00</td>\n",
       "      <td>01.02.2019 0:00</td>\n",
       "    </tr>\n",
       "    <tr>\n",
       "      <th>7</th>\n",
       "      <td>Поставщик 3</td>\n",
       "      <td>двдвдвдв</td>\n",
       "      <td>02.02.2019 0:00</td>\n",
       "      <td>31.12.9999 0:00</td>\n",
       "    </tr>\n",
       "  </tbody>\n",
       "</table>\n",
       "</div>"
      ],
      "text/plain": [
       "           ФИО Расписание Дата начала расписания Дата окончания расписания\n",
       "0  Поставщик 1   дддвсвнн        01.01.2019 0:00           10.01.2019 0:00\n",
       "1  Поставщик 1     ннвннв        11.01.2019 0:00           15.01.2019 0:00\n",
       "2  Поставщик 1         св        16.01.2019 0:00           20.01.2019 0:00\n",
       "3  Поставщик 2     свсвсв        01.01.2019 0:00           07.01.2019 0:00\n",
       "4  Поставщик 2      днвсв        08.01.2019 0:00           14.01.2019 0:00\n",
       "5  Поставщик 2    ннддвсв        15.01.2019 0:00           31.12.9999 0:00\n",
       "6  Поставщик 3     нвнвнв        01.01.2019 0:00           01.02.2019 0:00\n",
       "7  Поставщик 3   двдвдвдв        02.02.2019 0:00           31.12.9999 0:00"
      ]
     },
     "execution_count": 2,
     "metadata": {},
     "output_type": "execute_result"
    }
   ],
   "source": [
    "df = pd.read_csv(r'shedulers.csv', encoding='cp1251', sep=';')\n",
    "df.head(10)"
   ]
  },
  {
   "cell_type": "markdown",
   "metadata": {},
   "source": [
    "Пример - есть расписания поставщиков заданное видом ДДННССВВ, где Д - дневная смена, Н - ночная смена, С - суточная смена, В - выходной\n",
    "\n",
    "Считать что дневная смена с 08:00 по 20:00 Считать что ночная смена с 20:00 по 08:00 Считать что суточная смена с 08:00 по 08:00 завтрашнего дня\n",
    "\n",
    "Описание работы расписания ДНСВ: 1 день - Д дневная смена 2 день - Н ночная смена 3 день - С суточная смена 4 день - В выходной день 5 день - Д дневная смена и т.д. циклично"
   ]
  },
  {
   "cell_type": "markdown",
   "metadata": {},
   "source": [
    "# Задание 1\n",
    "Создать таблицу (T_CONTRACTOR_SHERULER) под расписание и заполнить его с файла schedulers.csv. (Использовать любую библиотеку для заливки в СУБД (как вариант MS SQL)) Таблицу следует нормализовать.\n",
    "\n",
    "* ID_NAME - идентификтор поставщика\n",
    "* NAME - название поставщика\n",
    "* SHEDULE - расписание\n",
    "* DATE_BEGIN - дата начала действия расписания\n",
    "* DATE_END - дата окончания действия расписания\n",
    "\n",
    "Пример записи без нормализации:\n",
    "\n",
    "* Поставщик 1 ДВС 01.01.2019 04.01.2019  \n",
    "* Поставщик 2 НВС 05.01.2019 31.12.2019\n",
    "\n",
    "Вводные:\n",
    "\n",
    "* Связку полей FIO, DATE_BEGIN считать уникальной.  \n",
    "* DATE_BEGIN не может привышать DATE_END.  \n",
    "Можете продемонстрировать работу с ключами/ограничениями. "
   ]
  },
  {
   "cell_type": "markdown",
   "metadata": {},
   "source": [
    "``` \n",
    "create table shedulers_raw\n",
    "(\n",
    "    NAME varchar(256),\n",
    "    SCHEDULE varchar(256),\n",
    "    DATE_BEGIN varchar(256),\n",
    "    DATE_END varchar(256)\n",
    ");\n",
    "\n",
    "INSERT INTO shedulers_raw\n",
    "VALUES ('Поставщик 1', 'дддвсвнн', '01.01.2019 0:00', '10.01.2019 0:00'),\n",
    "       ('Поставщик 1', 'ннвннв', '11.01.2019 0:00', '15.01.2019 0:00'),\n",
    "       ('Поставщик 1', 'св', '16.01.2019 0:00', '20.01.2019 0:00'),\n",
    "       ('Поставщик 2', 'свсвсв', '01.01.2019 0:00', '07.01.2019 0:00'),\n",
    "       ('Поставщик 2', 'днвсв', '08.01.2019 0:00', '14.01.2019 0:00'),\n",
    "       ('Поставщик 2', 'ннддвсв', '15.01.2019 0:00', '31.12.9999 0:00'),\n",
    "       ('Поставщик 3', 'нвнвнв', '01.01.2019 0:00', '01.02.2019 0:00'),\n",
    "       ('Поставщик 3', 'двдвдвдв', '02.02.2019 0:00', '31.12.9999 0:00');\n",
    "\n",
    "create table T_CONTRACTOR_SUPPLIER\n",
    "(\n",
    "    ID_NAME serial primary key,\n",
    "    NAME varchar(255)\n",
    ");\n",
    "\n",
    "INSERT INTO T_CONTRACTOR_SUPPLIER (NAME)\n",
    "SELECT DISTINCT NAME FROM shedulers_raw;\n",
    "\n",
    "\n",
    "create table T_CONTRACTOR_SCHEDULER\n",
    "(\n",
    "    ID_NAME int,\n",
    "    SCHEDULE varchar(256),\n",
    "    DATE_BEGIN date,\n",
    "    DATE_END date,\n",
    "    PRIMARY KEY (ID_NAME, DATE_BEGIN),\n",
    "    FOREIGN KEY (ID_NAME)\n",
    "        REFERENCES T_CONTRACTOR_SUPPLIER (ID_NAME),\n",
    "    CHECK (DATE_BEGIN <= DATE_END)\n",
    ");\n",
    "\n",
    "\n",
    "insert into T_CONTRACTOR_SCHEDULER\n",
    "select ID_NAME,\n",
    "       SCHEDULE,\n",
    "       to_date(DATE_BEGIN, 'DD.MM.YYYY'),\n",
    "       to_date(DATE_END, 'DD.MM.YYYY')\n",
    "from shedulers_raw LEFT JOIN T_CONTRACTOR_SUPPLIER\n",
    "ON shedulers_raw.NAME = T_CONTRACTOR_SUPPLIER.NAME;\n",
    "\n",
    "---\n",
    "\n",
    "select *\n",
    "from T_CONTRACTOR_SCHEDULER;\n",
    "```"
   ]
  },
  {
   "cell_type": "markdown",
   "metadata": {},
   "source": [
    "# Задание 2\n",
    "Создать таблицу (T_CONTRACTOR_WORK_DAY) выходов на работу сотрудников\n",
    "\n",
    "Таблица должна иметь следующий вид\n",
    "\n",
    "* ID - идентификатор записи\n",
    "* NAME - название поставщика\n",
    "* DATE_BEGIN - Начало рабочего дня (datetime)\n",
    "* DATE_END - Конец рабочего дня (datetime)"
   ]
  },
  {
   "cell_type": "markdown",
   "metadata": {},
   "source": [
    "```\n",
    "create table T_CONTRACTOR_WORK_DAY\n",
    "(\n",
    "    ID serial primary key,\n",
    "    NAME varchar(256),\n",
    "    DATE_BEGIN date,\n",
    "    DATE_END date,\n",
    "    CHECK (DATE_BEGIN <= DATE_END)\n",
    ");\n",
    "```"
   ]
  },
  {
   "cell_type": "markdown",
   "metadata": {},
   "source": [
    "# Задание 3\n",
    "Создать процедуру расчета рабочих дней.\n",
    "\n",
    "Входящие параметры:\n",
    "\n",
    "* Дата начала периода расчета\n",
    "* Дата окончания периода расчета.\n",
    "Ожидаемый результать выполнения хранимой процедуры - заполнение таблицы T_CONTRACTOR_WORK_DAY рабочими днями согласно расписания работы поставщиков из таблицы T_CONTRACTOR_SHERULER Выходные дни (В) не должны попадать в таблицу T_CONTRACTOR_WORK_DAY\n",
    "\n",
    "Пример выполнения для Поставщика 1 (Из примера записи таблицы T_CONTRACTOR_SHERULER) с параметрами '01.01.2019' - '08.01.2019' таблица T_CONTRACTOR_WORK_DAY заполнится следующими данными:\n",
    "\n",
    "* 1 Поставщик 1 01.01.2019 08:00 01.01.2019 20:00\n",
    "* 2 Поставщик 1 03.01.2019 08:00 04.01.2019 08:00\n",
    "* 3 Поставщик 1 04.01.2019 08:00 04.01.2019 08:00\n",
    "* 4 Поставщик 1 05.01.2019 20:00 06.01.2019 08:00\n",
    "* 5 Поставщик 1 07.01.2019 08:00 08.01.2019 08:00\n",
    "* 6 Поставщик 1 08.01.2019 20:00 09.01.2019 08:00\n",
    "Пояснение: для записей с 01.01.2019 по 04.01.2019 берется расписание ДВС\n",
    "\n",
    "* 1 - Д - дневная смена далее следует выходной В - запись о выходном дне не попадает в таблицу\n",
    "* 2 - С - суточная смена\n",
    "* 3 - расписание закончилось, поэтому оно циклично начинается с начала (Д - дневная смена)\n",
    "* 4 - С 05.01.2019 начинает действовать новое расписание - НВС берется Н - ночная смена далее следует выходной В - запись о выходном дне не попадает в таблицу\n",
    "* 5 - С - суточная смена\n",
    "* 6 - Снова Н - ночная смена"
   ]
  },
  {
   "cell_type": "markdown",
   "metadata": {},
   "source": [
    "```\n",
    "SELECT NAME, sched, DATE_BEGIN, DATE_END FROM (\n",
    "SELECT NAME, regexp_split_to_table(SCHEDULE, '') sched, DATE_BEGIN, DATE_END FROM T_CONTRACTOR_SCHEDULER\n",
    "    JOIN T_CONTRACTOR_SUPPLIER TCS on T_CONTRACTOR_SCHEDULER.ID_NAME = TCS.ID_NAME) q\n",
    "WHERE sched <> 'в';\n",
    "```"
   ]
  },
  {
   "cell_type": "markdown",
   "metadata": {},
   "source": [
    "# Задание 4\n",
    "* Сделать выборку содержащую сколько рабочих дней было у каждого поставщика\n",
    "* Сделать выборку поставщиков, у которыйх было больше 10 рабочих дней за январь 2019 года\n",
    "* Сделать выборку поставщиков, кто работал 14, 15 и 16 января 2019 года"
   ]
  },
  {
   "cell_type": "code",
   "execution_count": null,
   "metadata": {},
   "outputs": [],
   "source": []
  },
  {
   "cell_type": "markdown",
   "metadata": {},
   "source": [
    "# Задание 5\n",
    "Выполните задачи 3, 4 с помощью python."
   ]
  },
  {
   "cell_type": "markdown",
   "metadata": {},
   "source": [
    "### 3"
   ]
  },
  {
   "cell_type": "code",
   "execution_count": 35,
   "metadata": {},
   "outputs": [],
   "source": [
    "# заменим максимально возможной датой для пандаса\n",
    "df['Дата окончания расписания'].replace('31.12.9999 0:00', '31.12.2261 0:00', inplace=True)\n",
    "df['Дата начала расписания'] = pd.to_datetime(df['Дата начала расписания'], format=\"%d.%m.%Y %H:%M\")\n",
    "df['Дата окончания расписания'] = pd.to_datetime(df['Дата окончания расписания'], format=\"%d.%m.%Y %H:%M\")\n",
    "\n",
    "df['Расписание'] = df['Расписание'].apply(lambda x: list(x))"
   ]
  },
  {
   "cell_type": "code",
   "execution_count": 478,
   "metadata": {},
   "outputs": [],
   "source": [
    "def work_day(date_begin, date_end):\n",
    "    sum_total_table = pd.DataFrame()\n",
    "    for person in df['ФИО'].unique():\n",
    "        total_table = pd.DataFrame()\n",
    "        sh2 = np.array([])\n",
    "        date_begin = pd.to_datetime(date_begin)\n",
    "        date_end = pd.to_datetime(date_end)\n",
    "        work_table = df[df['ФИО'] == person].copy().reset_index(drop=True)\n",
    "\n",
    "        work_table['check_begin_start'] = np.where(date_begin >= work_table['Дата начала расписания'], 1, 0)\n",
    "        work_table['check_begin_end'] = np.where((date_end <= work_table['Дата окончания расписания']) & (date_end >= work_table['Дата начала расписания']), 1, 0)\n",
    "        \n",
    "\n",
    "        begin_string = work_table[work_table['check_begin_start'] == 1].index[0]\n",
    "        if len(work_table[work_table['check_begin_end'] == 1]) == 0:\n",
    "            end_string = work_table.index[-1]\n",
    "        else:\n",
    "            end_string = work_table[work_table['check_begin_end'] == 1].index[-1]\n",
    "        work_table = work_table.iloc[begin_string:end_string+1]\n",
    "        for i in range(len(work_table)):\n",
    "            a = work_table.iloc[i]\n",
    "            sh = pd.DataFrame(a[['Расписание']].explode())       \n",
    "            sh.columns = [0]\n",
    "            dates = pd.date_range(a['Дата начала расписания'], a['Дата окончания расписания'])\n",
    "            repeat = (len(dates) // len(sh))+1\n",
    "            for i in range(repeat):\n",
    "                sh2 = np.hstack([np.array(sh2).reshape(-1),sh[0].values])\n",
    "            sh2 = pd.DataFrame(sh2).iloc[:len(dates)]\n",
    "            b = pd.DataFrame(np.vstack([sh2[0].values, dates])).T\n",
    "            b[1] = pd.to_datetime(b[1])\n",
    "            b['start_datetime'] = np.where((b[0]=='д') | (b[0]=='с'), b[1] + pd.to_timedelta(8, unit='h'), \n",
    "                                           np.where(b[0]=='н', b[1] + pd.to_timedelta(20, unit='h'), b[1]))\n",
    "            b['end_datetime'] = np.where((b[0]=='д') | (b[0]=='н'), b['start_datetime'] + pd.to_timedelta(12, unit='h'), \n",
    "                                         np.where(b[0]=='с', b['start_datetime'] + pd.to_timedelta(24, unit='h'), b[1]))\n",
    "\n",
    "            total_table = pd.concat([total_table, b])\n",
    "        total_table['name'] = person\n",
    "        sum_total_table = pd.concat([sum_total_table, total_table])\n",
    "        \n",
    "    sum_total_table = sum_total_table[(sum_total_table['start_datetime'] >= date_begin)]# & (sum_total_table['start_datetime'] <= date_end)]\n",
    "    sum_total_table = sum_total_table[sum_total_table['end_datetime'] <= date_end + pd.to_timedelta(24, unit='h')]\n",
    "    sum_total_table = sum_total_table[sum_total_table[0] != 'в']\n",
    "    return sum_total_table[['name', 'start_datetime', 'end_datetime']].reset_index(drop=True)"
   ]
  },
  {
   "cell_type": "code",
   "execution_count": 479,
   "metadata": {},
   "outputs": [
    {
     "data": {
      "text/html": [
       "<div>\n",
       "<style scoped>\n",
       "    .dataframe tbody tr th:only-of-type {\n",
       "        vertical-align: middle;\n",
       "    }\n",
       "\n",
       "    .dataframe tbody tr th {\n",
       "        vertical-align: top;\n",
       "    }\n",
       "\n",
       "    .dataframe thead th {\n",
       "        text-align: right;\n",
       "    }\n",
       "</style>\n",
       "<table border=\"1\" class=\"dataframe\">\n",
       "  <thead>\n",
       "    <tr style=\"text-align: right;\">\n",
       "      <th></th>\n",
       "      <th>name</th>\n",
       "      <th>start_datetime</th>\n",
       "      <th>end_datetime</th>\n",
       "    </tr>\n",
       "  </thead>\n",
       "  <tbody>\n",
       "    <tr>\n",
       "      <th>0</th>\n",
       "      <td>Поставщик 1</td>\n",
       "      <td>2019-01-01 08:00:00</td>\n",
       "      <td>2019-01-01 20:00:00</td>\n",
       "    </tr>\n",
       "    <tr>\n",
       "      <th>1</th>\n",
       "      <td>Поставщик 1</td>\n",
       "      <td>2019-01-02 08:00:00</td>\n",
       "      <td>2019-01-02 20:00:00</td>\n",
       "    </tr>\n",
       "    <tr>\n",
       "      <th>2</th>\n",
       "      <td>Поставщик 1</td>\n",
       "      <td>2019-01-03 08:00:00</td>\n",
       "      <td>2019-01-03 20:00:00</td>\n",
       "    </tr>\n",
       "    <tr>\n",
       "      <th>3</th>\n",
       "      <td>Поставщик 1</td>\n",
       "      <td>2019-01-05 08:00:00</td>\n",
       "      <td>2019-01-06 08:00:00</td>\n",
       "    </tr>\n",
       "    <tr>\n",
       "      <th>4</th>\n",
       "      <td>Поставщик 1</td>\n",
       "      <td>2019-01-07 20:00:00</td>\n",
       "      <td>2019-01-08 08:00:00</td>\n",
       "    </tr>\n",
       "    <tr>\n",
       "      <th>5</th>\n",
       "      <td>Поставщик 2</td>\n",
       "      <td>2019-01-01 08:00:00</td>\n",
       "      <td>2019-01-02 08:00:00</td>\n",
       "    </tr>\n",
       "    <tr>\n",
       "      <th>6</th>\n",
       "      <td>Поставщик 2</td>\n",
       "      <td>2019-01-03 08:00:00</td>\n",
       "      <td>2019-01-04 08:00:00</td>\n",
       "    </tr>\n",
       "    <tr>\n",
       "      <th>7</th>\n",
       "      <td>Поставщик 2</td>\n",
       "      <td>2019-01-05 08:00:00</td>\n",
       "      <td>2019-01-06 08:00:00</td>\n",
       "    </tr>\n",
       "    <tr>\n",
       "      <th>8</th>\n",
       "      <td>Поставщик 2</td>\n",
       "      <td>2019-01-07 08:00:00</td>\n",
       "      <td>2019-01-08 08:00:00</td>\n",
       "    </tr>\n",
       "    <tr>\n",
       "      <th>9</th>\n",
       "      <td>Поставщик 3</td>\n",
       "      <td>2019-01-01 20:00:00</td>\n",
       "      <td>2019-01-02 08:00:00</td>\n",
       "    </tr>\n",
       "    <tr>\n",
       "      <th>10</th>\n",
       "      <td>Поставщик 3</td>\n",
       "      <td>2019-01-03 20:00:00</td>\n",
       "      <td>2019-01-04 08:00:00</td>\n",
       "    </tr>\n",
       "    <tr>\n",
       "      <th>11</th>\n",
       "      <td>Поставщик 3</td>\n",
       "      <td>2019-01-05 20:00:00</td>\n",
       "      <td>2019-01-06 08:00:00</td>\n",
       "    </tr>\n",
       "    <tr>\n",
       "      <th>12</th>\n",
       "      <td>Поставщик 3</td>\n",
       "      <td>2019-01-07 20:00:00</td>\n",
       "      <td>2019-01-08 08:00:00</td>\n",
       "    </tr>\n",
       "  </tbody>\n",
       "</table>\n",
       "</div>"
      ],
      "text/plain": [
       "           name      start_datetime        end_datetime\n",
       "0   Поставщик 1 2019-01-01 08:00:00 2019-01-01 20:00:00\n",
       "1   Поставщик 1 2019-01-02 08:00:00 2019-01-02 20:00:00\n",
       "2   Поставщик 1 2019-01-03 08:00:00 2019-01-03 20:00:00\n",
       "3   Поставщик 1 2019-01-05 08:00:00 2019-01-06 08:00:00\n",
       "4   Поставщик 1 2019-01-07 20:00:00 2019-01-08 08:00:00\n",
       "5   Поставщик 2 2019-01-01 08:00:00 2019-01-02 08:00:00\n",
       "6   Поставщик 2 2019-01-03 08:00:00 2019-01-04 08:00:00\n",
       "7   Поставщик 2 2019-01-05 08:00:00 2019-01-06 08:00:00\n",
       "8   Поставщик 2 2019-01-07 08:00:00 2019-01-08 08:00:00\n",
       "9   Поставщик 3 2019-01-01 20:00:00 2019-01-02 08:00:00\n",
       "10  Поставщик 3 2019-01-03 20:00:00 2019-01-04 08:00:00\n",
       "11  Поставщик 3 2019-01-05 20:00:00 2019-01-06 08:00:00\n",
       "12  Поставщик 3 2019-01-07 20:00:00 2019-01-08 08:00:00"
      ]
     },
     "execution_count": 479,
     "metadata": {},
     "output_type": "execute_result"
    }
   ],
   "source": [
    "work_day(date_begin='2019-01-01', date_end='2019-01-08')"
   ]
  },
  {
   "cell_type": "markdown",
   "metadata": {},
   "source": [
    "### 4"
   ]
  },
  {
   "cell_type": "markdown",
   "metadata": {},
   "source": [
    "##### Сделать выборку содержащую сколько рабочих дней было у каждого поставщика"
   ]
  },
  {
   "cell_type": "markdown",
   "metadata": {},
   "source": [
    "В задании не уточнено за какой период? Рассчитаем число рабочих дней с '2019-01-01' по настоящее время"
   ]
  },
  {
   "cell_type": "code",
   "execution_count": 491,
   "metadata": {},
   "outputs": [],
   "source": [
    "work_by_now = work_day(date_begin='2019-01-01', date_end=datetime.datetime.now())"
   ]
  },
  {
   "cell_type": "code",
   "execution_count": 493,
   "metadata": {},
   "outputs": [
    {
     "data": {
      "text/plain": [
       "name\n",
       "Поставщик 1     16\n",
       "Поставщик 2    776\n",
       "Поставщик 3    545\n",
       "Name: start_datetime, dtype: int64"
      ]
     },
     "execution_count": 493,
     "metadata": {},
     "output_type": "execute_result"
    }
   ],
   "source": [
    "work_by_now.groupby('name')['start_datetime'].count()"
   ]
  },
  {
   "cell_type": "markdown",
   "metadata": {},
   "source": [
    "##### Сделать выборку поставщиков, у которых было больше 10 рабочих дней за январь 2019 года"
   ]
  },
  {
   "cell_type": "code",
   "execution_count": 483,
   "metadata": {},
   "outputs": [],
   "source": [
    "table_jan = work_day(date_begin='2019-01-01', date_end='2019-01-31')"
   ]
  },
  {
   "cell_type": "code",
   "execution_count": 484,
   "metadata": {},
   "outputs": [
    {
     "data": {
      "text/plain": [
       "['Поставщик 1', 'Поставщик 2', 'Поставщик 3']"
      ]
     },
     "execution_count": 484,
     "metadata": {},
     "output_type": "execute_result"
    }
   ],
   "source": [
    "list((table_jan.groupby('name')['start_datetime'].count() > 10).index)"
   ]
  },
  {
   "cell_type": "markdown",
   "metadata": {},
   "source": [
    "##### Сделать выборку поставщиков, кто работал 14, 15 и 16 января 2019 года"
   ]
  },
  {
   "cell_type": "code",
   "execution_count": 480,
   "metadata": {},
   "outputs": [],
   "source": [
    "table_1416 = work_day(date_begin='2019-01-14', date_end='2019-01-16')"
   ]
  },
  {
   "cell_type": "code",
   "execution_count": 481,
   "metadata": {},
   "outputs": [
    {
     "data": {
      "text/plain": [
       "['Поставщик 1', 'Поставщик 2', 'Поставщик 3']"
      ]
     },
     "execution_count": 481,
     "metadata": {},
     "output_type": "execute_result"
    }
   ],
   "source": [
    "list(table_1416['name'].unique())"
   ]
  },
  {
   "cell_type": "code",
   "execution_count": 482,
   "metadata": {},
   "outputs": [
    {
     "data": {
      "text/html": [
       "<div>\n",
       "<style scoped>\n",
       "    .dataframe tbody tr th:only-of-type {\n",
       "        vertical-align: middle;\n",
       "    }\n",
       "\n",
       "    .dataframe tbody tr th {\n",
       "        vertical-align: top;\n",
       "    }\n",
       "\n",
       "    .dataframe thead th {\n",
       "        text-align: right;\n",
       "    }\n",
       "</style>\n",
       "<table border=\"1\" class=\"dataframe\">\n",
       "  <thead>\n",
       "    <tr style=\"text-align: right;\">\n",
       "      <th></th>\n",
       "      <th>name</th>\n",
       "      <th>start_datetime</th>\n",
       "      <th>end_datetime</th>\n",
       "    </tr>\n",
       "  </thead>\n",
       "  <tbody>\n",
       "    <tr>\n",
       "      <th>0</th>\n",
       "      <td>Поставщик 1</td>\n",
       "      <td>2019-01-15 08:00:00</td>\n",
       "      <td>2019-01-16 08:00:00</td>\n",
       "    </tr>\n",
       "    <tr>\n",
       "      <th>1</th>\n",
       "      <td>Поставщик 1</td>\n",
       "      <td>2019-01-16 08:00:00</td>\n",
       "      <td>2019-01-16 20:00:00</td>\n",
       "    </tr>\n",
       "    <tr>\n",
       "      <th>2</th>\n",
       "      <td>Поставщик 2</td>\n",
       "      <td>2019-01-14 08:00:00</td>\n",
       "      <td>2019-01-15 08:00:00</td>\n",
       "    </tr>\n",
       "    <tr>\n",
       "      <th>3</th>\n",
       "      <td>Поставщик 2</td>\n",
       "      <td>2019-01-15 08:00:00</td>\n",
       "      <td>2019-01-16 08:00:00</td>\n",
       "    </tr>\n",
       "    <tr>\n",
       "      <th>4</th>\n",
       "      <td>Поставщик 3</td>\n",
       "      <td>2019-01-15 20:00:00</td>\n",
       "      <td>2019-01-16 08:00:00</td>\n",
       "    </tr>\n",
       "  </tbody>\n",
       "</table>\n",
       "</div>"
      ],
      "text/plain": [
       "          name      start_datetime        end_datetime\n",
       "0  Поставщик 1 2019-01-15 08:00:00 2019-01-16 08:00:00\n",
       "1  Поставщик 1 2019-01-16 08:00:00 2019-01-16 20:00:00\n",
       "2  Поставщик 2 2019-01-14 08:00:00 2019-01-15 08:00:00\n",
       "3  Поставщик 2 2019-01-15 08:00:00 2019-01-16 08:00:00\n",
       "4  Поставщик 3 2019-01-15 20:00:00 2019-01-16 08:00:00"
      ]
     },
     "execution_count": 482,
     "metadata": {},
     "output_type": "execute_result"
    }
   ],
   "source": [
    "table_1416"
   ]
  },
  {
   "cell_type": "code",
   "execution_count": null,
   "metadata": {},
   "outputs": [],
   "source": []
  }
 ],
 "metadata": {
  "kernelspec": {
   "display_name": "Python 3",
   "language": "python",
   "name": "python3"
  },
  "language_info": {
   "codemirror_mode": {
    "name": "ipython",
    "version": 3
   },
   "file_extension": ".py",
   "mimetype": "text/x-python",
   "name": "python",
   "nbconvert_exporter": "python",
   "pygments_lexer": "ipython3",
   "version": "3.8.3"
  }
 },
 "nbformat": 4,
 "nbformat_minor": 4
}
