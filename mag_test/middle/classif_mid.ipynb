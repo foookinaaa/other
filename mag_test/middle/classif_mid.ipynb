{
 "cells": [
  {
   "cell_type": "code",
   "execution_count": 1,
   "metadata": {},
   "outputs": [],
   "source": [
    "import pandas as pd\n",
    "import numpy as np\n",
    "import matplotlib.pylab as plt\n",
    "from sklearn.model_selection import train_test_split\n",
    "from sklearn.metrics import roc_auc_score\n",
    "from sklearn import preprocessing\n",
    "\n",
    "import warnings\n",
    "warnings.filterwarnings('ignore')"
   ]
  },
  {
   "cell_type": "markdown",
   "metadata": {},
   "source": [
    "# Задача - прогноз уязвимости устройства на основе его характеристик\n",
    "Перед Вами данные с характеристиками различных устройств, чья операционная система может содержать вредоносный код. Основаываясь на характеристиках устройств необходимо построить модель, которая максимально точно предскажет наличие вредоноса на отложенной выборке. Получившиеся результаты (вероятность наличия вируса на устройстве) необходимо подставить в датасет df_submission и отправить обратно для проверки обощающей способности модели."
   ]
  },
  {
   "cell_type": "code",
   "execution_count": 2,
   "metadata": {},
   "outputs": [],
   "source": [
    "X_train = pd.read_csv(r'train.csv')\n",
    "X_test = pd.read_csv(r'test.csv')\n",
    "df_sbmission = pd.read_csv(r'submission.csv')"
   ]
  },
  {
   "cell_type": "markdown",
   "metadata": {},
   "source": [
    "```\n",
    "machine_id - идентификатор устройства\n",
    "device_os_version - версия текущей операционной системы\n",
    "device_os_full_name - версия операционной системы (полное название)\n",
    "device_os_build - сборка текущей операционной системы\n",
    "device_os_build_revision - версия операционной системы детальная\n",
    "device_os_build_lab - сборка, сгенерированная под текущую версию операционной системы\n",
    "device_os_suite - верия ПО в текущей операционной системе\n",
    "device_os_platform_name - название платформы\n",
    "device_os_platform_subrelease - релиз версии операционной системы\n",
    "device_os_architecture - архитектура операционной системы\n",
    "device_os_sku_name - пользовательское наименование вида операционной системы\n",
    "device_os_install_type_name - пользовательское наименование типа установки ПО на устройстве\n",
    "device_os_autoupdate_option_name - пользовательское наименование настроек автообновления Windows\n",
    "device_os_is_portable - портабельная версия операционной системы\n",
    "device_is_protected - работоспособность антивируса\n",
    "device_is_cloud_defence_enabled - включена ли в антивирусе облачная защита\n",
    "device_is_pua_mode_enabled - включеная ли блокировка потенциально нежелательных приложений\n",
    "device_is_smode_enabled - включен ли режим SMode\n",
    "device_is_smart_screen_enabled - включен ли режим SmartScreen\n",
    "device_is_firewall_enabled - включен ли Firewall\n",
    "device_is_uac_enabled - включен ли User Account Control\n",
    "device_sku_edition - вид операционной системы\n",
    "device_form_factor_type - тип консоли\n",
    "device_family - тип девайса\n",
    "device_cpu_architecture - архитектура процессора\n",
    "device_cpu_count - количество ядер в процессоре\n",
    "device_cpu_class - классификация процессоров\n",
    "device_system_disk_total_capacity - количество свободного места на системной диске в МБ\n",
    "device_system_disk_type_name - тип дискового пространства\n",
    "device_system_volume_total_capacity - место, занимаемое системой в МБ\n",
    "device_has_optical_disk_drive - есть ли оптический привод\n",
    "device_total_physical_ram - оперативная память в МБ\n",
    "device_chassis_type_name - тип устройства\n",
    "device_primary_display_monitor_size_inches - размер диагонали основного экрана\n",
    "deivce_primary_display_horizonal_resolution - количество пикселей в горизонатльном представлении основного экрана\n",
    "deivce_primary_display_vertical_resolution - количество пикселей в вертикальном представлении основного экрана\n",
    "device_power_platform_name - идентификатор профиля оригинального производителя оборудования\n",
    "device_genuine_state_name - пользовательское наименование проверки подлинности операционной системы\n",
    "device_activation_channel - лицензионный ключ устройства\n",
    "device_locale_id - название стандартной локали\n",
    "device_is_secure_boot_enabled - включен ли режим защиты устройства\n",
    "device_is_virtual - является ли виртуальной машиной\n",
    "device_is_touched_enabled - есть ли тач-пад на устройстве\n",
    "device_is_pen_capable - есть ли возможность работать с пером на устройстве\n",
    "device_is_always_on_connected_capable - есть ли у устройства возможно постоянно быть в активном состоянии\n",
    "device_is_gaming - устройство приспособлено для геймеров\n",
    "device_defender_product_name - наименование защитного ПО\n",
    "device_defender_engine_version - выпуск защитного ПО\n",
    "device_defender_app_version - версия защитного ПО\n",
    "device_defender_av_sig_version - спецификация защитного ПО\n",
    "device_defender_is_beta - бета версия защитного ПО\n",
    "device_default_browser_id - идентификтор браузера ПК по-умолчанию\n",
    "device_antivirus_product_id - идентификатор пользовательской конфигурации антивируса\n",
    "device_has_cryptogrpahic - есть ли криптогарфическое шифрование\n",
    "device_country_id - идентификтор страны расположения\n",
    "device_city_id - идентификтор города расположения\n",
    "device_organization_id - идентификатор организации\n",
    "device_geo_id - идентификатор геолокации\n",
    "```"
   ]
  },
  {
   "cell_type": "code",
   "execution_count": 3,
   "metadata": {},
   "outputs": [
    {
     "data": {
      "text/plain": [
       "0    401638\n",
       "1    401295\n",
       "Name: is_infected, dtype: int64"
      ]
     },
     "execution_count": 3,
     "metadata": {},
     "output_type": "execute_result"
    }
   ],
   "source": [
    "X_train['is_infected'].value_counts()"
   ]
  },
  {
   "cell_type": "code",
   "execution_count": 4,
   "metadata": {},
   "outputs": [],
   "source": [
    "train, val, y_train, y_val = train_test_split(X_train.drop('is_infected', axis=1), X_train['is_infected'], \n",
    "                                                    test_size=0.3, random_state=42) "
   ]
  },
  {
   "cell_type": "code",
   "execution_count": 5,
   "metadata": {},
   "outputs": [],
   "source": [
    "from sklearn.ensemble import RandomForestClassifier\n",
    "from category_encoders import JamesSteinEncoder"
   ]
  },
  {
   "cell_type": "code",
   "execution_count": 6,
   "metadata": {},
   "outputs": [],
   "source": [
    "type_col = train.dtypes\n",
    "cat_cols = list(type_col[(type_col == 'object')].index)\n",
    "num_cols = list(type_col[~(type_col == 'object')].index)"
   ]
  },
  {
   "cell_type": "code",
   "execution_count": 7,
   "metadata": {},
   "outputs": [],
   "source": [
    "cat_cols.remove('machine_id')"
   ]
  },
  {
   "cell_type": "code",
   "execution_count": 8,
   "metadata": {},
   "outputs": [],
   "source": [
    "js = JamesSteinEncoder()\n",
    "train_js = js.fit_transform(train[cat_cols], y_train)\n",
    "val_js = js.transform(val[cat_cols])"
   ]
  },
  {
   "cell_type": "code",
   "execution_count": 9,
   "metadata": {},
   "outputs": [],
   "source": [
    "train_new = train[num_cols].join(train_js)\n",
    "val_new = val[num_cols].join(val_js)"
   ]
  },
  {
   "cell_type": "code",
   "execution_count": 10,
   "metadata": {},
   "outputs": [],
   "source": [
    "clf = RandomForestClassifier(n_estimators=50, random_state=0) #max_depth=2, "
   ]
  },
  {
   "cell_type": "code",
   "execution_count": 11,
   "metadata": {},
   "outputs": [
    {
     "data": {
      "text/plain": [
       "RandomForestClassifier(n_estimators=50, random_state=0)"
      ]
     },
     "execution_count": 11,
     "metadata": {},
     "output_type": "execute_result"
    }
   ],
   "source": [
    "clf.fit(train_new.fillna(-999), y_train)"
   ]
  },
  {
   "cell_type": "code",
   "execution_count": 12,
   "metadata": {},
   "outputs": [],
   "source": [
    "pred = clf.predict(val_new.fillna(-999))"
   ]
  },
  {
   "cell_type": "code",
   "execution_count": 13,
   "metadata": {},
   "outputs": [
    {
     "data": {
      "text/plain": [
       "0.6349451988983769"
      ]
     },
     "execution_count": 13,
     "metadata": {},
     "output_type": "execute_result"
    }
   ],
   "source": [
    "roc_auc_score(y_val, pred)"
   ]
  },
  {
   "cell_type": "code",
   "execution_count": null,
   "metadata": {},
   "outputs": [],
   "source": [
    "###"
   ]
  },
  {
   "cell_type": "code",
   "execution_count": 14,
   "metadata": {},
   "outputs": [],
   "source": [
    "X_train['part'] = 'train'\n",
    "X_test['part'] = 'test'\n",
    "df = pd.concat([X_train, X_test])"
   ]
  },
  {
   "cell_type": "code",
   "execution_count": 15,
   "metadata": {},
   "outputs": [],
   "source": [
    "for feature in cat_cols:\n",
    "    encoder = preprocessing.LabelEncoder()\n",
    "    df[feature] = encoder.fit_transform(df[feature])"
   ]
  },
  {
   "cell_type": "code",
   "execution_count": 16,
   "metadata": {},
   "outputs": [],
   "source": [
    "X_train_code = df[df['part'] == 'train']\n",
    "X_test_code = df[df['part'] == 'test']"
   ]
  },
  {
   "cell_type": "code",
   "execution_count": 17,
   "metadata": {},
   "outputs": [],
   "source": [
    "train, val, y_train, y_val = train_test_split(X_train_code.drop(['is_infected','part'], axis=1), X_train_code['is_infected'], \n",
    "                                                    test_size=0.3, random_state=42) "
   ]
  },
  {
   "cell_type": "code",
   "execution_count": 18,
   "metadata": {},
   "outputs": [
    {
     "data": {
      "text/plain": [
       "RandomForestClassifier(n_estimators=50, random_state=0)"
      ]
     },
     "execution_count": 18,
     "metadata": {},
     "output_type": "execute_result"
    }
   ],
   "source": [
    "clf.fit(train.iloc[:,1:].fillna(-999), y_train)"
   ]
  },
  {
   "cell_type": "code",
   "execution_count": 19,
   "metadata": {},
   "outputs": [
    {
     "data": {
      "text/plain": [
       "0.6356644909158217"
      ]
     },
     "execution_count": 19,
     "metadata": {},
     "output_type": "execute_result"
    }
   ],
   "source": [
    "pred = clf.predict(val.iloc[:,1:].fillna(-999))\n",
    "roc_auc_score(y_val, pred)"
   ]
  },
  {
   "cell_type": "code",
   "execution_count": 20,
   "metadata": {},
   "outputs": [],
   "source": [
    "import catboost"
   ]
  },
  {
   "cell_type": "code",
   "execution_count": 21,
   "metadata": {},
   "outputs": [],
   "source": [
    "boosting_model = catboost.CatBoostClassifier(n_estimators=100, silent=True,\n",
    "                                             eval_metric='AUC', cat_features=cat_cols)#, l2_leaf_reg=0.05, max_depth=3, learning_rate=0.05)"
   ]
  },
  {
   "cell_type": "code",
   "execution_count": 22,
   "metadata": {},
   "outputs": [],
   "source": [
    "boosting_model.fit(train.iloc[:,1:].fillna(-999), y_train)\n",
    "pred = boosting_model.predict_proba(val.iloc[:,1:].fillna(-999))[:,1]"
   ]
  },
  {
   "cell_type": "code",
   "execution_count": 23,
   "metadata": {},
   "outputs": [
    {
     "data": {
      "text/plain": [
       "0.7139799913734906"
      ]
     },
     "execution_count": 23,
     "metadata": {},
     "output_type": "execute_result"
    }
   ],
   "source": [
    "roc_auc_score(y_val, pred)"
   ]
  },
  {
   "cell_type": "code",
   "execution_count": 24,
   "metadata": {},
   "outputs": [],
   "source": [
    "feat_imp = pd.DataFrame({i:[j] for i, j in zip(boosting_model.feature_names_, boosting_model.feature_importances_)}).T"
   ]
  },
  {
   "cell_type": "code",
   "execution_count": 25,
   "metadata": {},
   "outputs": [
    {
     "data": {
      "image/png": "[encoded data removed]",
      "text/plain": [
       "<Figure size 432x720 with 1 Axes>"
      ]
     },
     "metadata": {
      "needs_background": "light"
     },
     "output_type": "display_data"
    }
   ],
   "source": [
    "feat_imp.sort_values(0).plot(kind='barh', figsize=(6, 10));"
   ]
  },
  {
   "cell_type": "code",
   "execution_count": 26,
   "metadata": {},
   "outputs": [],
   "source": [
    "drop_cols = feat_imp[feat_imp[0] == 0].index"
   ]
  },
  {
   "cell_type": "code",
   "execution_count": 27,
   "metadata": {},
   "outputs": [],
   "source": [
    "cat_cols_new = cat_cols.copy()\n",
    "for i in drop_cols:\n",
    "    if i in cat_cols_new:\n",
    "        cat_cols_new.remove(i)"
   ]
  },
  {
   "cell_type": "code",
   "execution_count": 32,
   "metadata": {},
   "outputs": [],
   "source": [
    "boosting_model = catboost.CatBoostClassifier(n_estimators=200, silent=True,\n",
    "                                             eval_metric='AUC', cat_features=cat_cols_new)#, l2_leaf_reg=0.05, max_depth=3, learning_rate=0.05)"
   ]
  },
  {
   "cell_type": "code",
   "execution_count": 33,
   "metadata": {},
   "outputs": [
    {
     "name": "stderr",
     "output_type": "stream",
     "text": [
      "Custom logger is already specified. Specify more than one logger at same time is not thread safe."
     ]
    },
    {
     "data": {
      "text/plain": [
       "0.7185524804861798"
      ]
     },
     "execution_count": 33,
     "metadata": {},
     "output_type": "execute_result"
    }
   ],
   "source": [
    "boosting_model.fit(train.iloc[:,1:].drop(drop_cols, axis=1).fillna(-999), y_train)\n",
    "pred = boosting_model.predict_proba(val.iloc[:,1:].drop(drop_cols, axis=1).fillna(-999))[:,1]\n",
    "roc_auc_score(y_val, pred)"
   ]
  },
  {
   "cell_type": "code",
   "execution_count": 37,
   "metadata": {},
   "outputs": [],
   "source": [
    "new_boosting_model = catboost.CatBoostClassifier(n_estimators=200, silent=True,\n",
    "                                             eval_metric='AUC')"
   ]
  },
  {
   "cell_type": "code",
   "execution_count": 41,
   "metadata": {},
   "outputs": [
    {
     "data": {
      "text/plain": [
       "0.7192766337754025"
      ]
     },
     "execution_count": 41,
     "metadata": {},
     "output_type": "execute_result"
    }
   ],
   "source": [
    "new_boosting_model.fit(train.iloc[:,1:].fillna(-999), y_train)\n",
    "new_pred = new_boosting_model.predict_proba(val.iloc[:,1:].fillna(-999))[:,1]\n",
    "roc_auc_score(y_val, new_pred)"
   ]
  },
  {
   "cell_type": "code",
   "execution_count": 44,
   "metadata": {},
   "outputs": [
    {
     "data": {
      "text/plain": [
       "<catboost.core.CatBoostClassifier at 0x25911409be0>"
      ]
     },
     "execution_count": 44,
     "metadata": {},
     "output_type": "execute_result"
    }
   ],
   "source": [
    "new_boosting_model.fit(X_train_code[train.iloc[:,1:].columns].fillna(-999), X_train_code['is_infected'])"
   ]
  },
  {
   "cell_type": "code",
   "execution_count": 45,
   "metadata": {},
   "outputs": [],
   "source": [
    "test_pred = new_boosting_model.predict_proba(X_test_code[train.iloc[:,1:].columns].fillna(-999))[:,1]"
   ]
  },
  {
   "cell_type": "code",
   "execution_count": 49,
   "metadata": {},
   "outputs": [],
   "source": [
    "df_sbmission['is_infected'] = test_pred"
   ]
  },
  {
   "cell_type": "code",
   "execution_count": 51,
   "metadata": {},
   "outputs": [],
   "source": [
    "df_sbmission.to_csv('my_sub_clf.csv')"
   ]
  },
  {
   "cell_type": "code",
   "execution_count": null,
   "metadata": {},
   "outputs": [],
   "source": []
  }
 ],
 "metadata": {
  "kernelspec": {
   "display_name": "Python 3",
   "language": "python",
   "name": "python3"
  },
  "language_info": {
   "codemirror_mode": {
    "name": "ipython",
    "version": 3
   },
   "file_extension": ".py",
   "mimetype": "text/x-python",
   "name": "python",
   "nbconvert_exporter": "python",
   "pygments_lexer": "ipython3",
   "version": "3.8.3"
  }
 },
 "nbformat": 4,
 "nbformat_minor": 4
}
