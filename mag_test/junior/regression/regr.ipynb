{
 "cells": [
  {
   "cell_type": "code",
   "execution_count": 75,
   "metadata": {},
   "outputs": [],
   "source": [
    "import pandas as pd\n",
    "import numpy as np\n",
    "import seaborn as sns\n",
    "import matplotlib.pylab as plt\n",
    "from pylab import rcParams\n",
    "rcParams['figure.figsize'] = 20, 10\n",
    "\n",
    "import lightgbm as lgb\n",
    "from category_encoders import TargetEncoder\n",
    "\n",
    "import warnings\n",
    "warnings.filterwarnings('ignore')"
   ]
  },
  {
   "cell_type": "code",
   "execution_count": 2,
   "metadata": {},
   "outputs": [],
   "source": [
    "def metric(y_true, y_pred):\n",
    "    \n",
    "    return np.sum(np.abs(y_true - y_pred)) / np.sum(y_pred) * 100"
   ]
  },
  {
   "cell_type": "markdown",
   "metadata": {},
   "source": [
    "# Задача 1:\n",
    "* Проведите аналитику полученных данных\n",
    "* Подготовьте данные для регрессионной модели\n",
    "* Обучите регрессионную модель и осуществите прогноз на последний месяц для поля SALES\n",
    "* Оцените качество модели с помощью функции metric"
   ]
  },
  {
   "cell_type": "code",
   "execution_count": 3,
   "metadata": {},
   "outputs": [],
   "source": [
    "df = pd.read_csv('data_regression_for_task.csv')"
   ]
  },
  {
   "cell_type": "markdown",
   "metadata": {},
   "source": [
    "* YEAR: год продажи\n",
    "* MONTH: месяц продажи\n",
    "* CONTRAGENT: поставщик товарной позиции\n",
    "* ARTICLE_CODE: код товарной позиции\n",
    "* ARTICLE_NAME: название товарной позиции\n",
    "* ARTICLE_GROUP: название группы товарных позиций\n",
    "* SALES: продажи товарной позиции в этот месяц и год (целевая переменная)\n",
    "* STORE_SALES: продажи всего магазина"
   ]
  },
  {
   "cell_type": "code",
   "execution_count": 4,
   "metadata": {},
   "outputs": [
    {
     "data": {
      "text/html": [
       "<div>\n",
       "<style scoped>\n",
       "    .dataframe tbody tr th:only-of-type {\n",
       "        vertical-align: middle;\n",
       "    }\n",
       "\n",
       "    .dataframe tbody tr th {\n",
       "        vertical-align: top;\n",
       "    }\n",
       "\n",
       "    .dataframe thead th {\n",
       "        text-align: right;\n",
       "    }\n",
       "</style>\n",
       "<table border=\"1\" class=\"dataframe\">\n",
       "  <thead>\n",
       "    <tr style=\"text-align: right;\">\n",
       "      <th></th>\n",
       "      <th>YEAR</th>\n",
       "      <th>MONTH</th>\n",
       "      <th>CONTRAGENT</th>\n",
       "      <th>ARTICLE_CODE</th>\n",
       "      <th>ARTICLE_NAME</th>\n",
       "      <th>ARTICLE_GROUP</th>\n",
       "      <th>SALES</th>\n",
       "      <th>STORE_SALES</th>\n",
       "    </tr>\n",
       "  </thead>\n",
       "  <tbody>\n",
       "    <tr>\n",
       "      <th>0</th>\n",
       "      <td>2017</td>\n",
       "      <td>4</td>\n",
       "      <td>ROYAL WINE CORP</td>\n",
       "      <td>100200</td>\n",
       "      <td>GAMLA CAB - 750ML</td>\n",
       "      <td>WINE</td>\n",
       "      <td>0.0</td>\n",
       "      <td>0.0</td>\n",
       "    </tr>\n",
       "    <tr>\n",
       "      <th>1</th>\n",
       "      <td>2017</td>\n",
       "      <td>4</td>\n",
       "      <td>SANTA MARGHERITA USA INC</td>\n",
       "      <td>100749</td>\n",
       "      <td>SANTA MARGHERITA P/GRIG ALTO - 375ML</td>\n",
       "      <td>WINE</td>\n",
       "      <td>0.0</td>\n",
       "      <td>0.0</td>\n",
       "    </tr>\n",
       "    <tr>\n",
       "      <th>2</th>\n",
       "      <td>2017</td>\n",
       "      <td>4</td>\n",
       "      <td>JIM BEAM BRANDS CO</td>\n",
       "      <td>10103</td>\n",
       "      <td>KNOB CREEK BOURBON 9YR - 100P - 375ML</td>\n",
       "      <td>LIQUOR</td>\n",
       "      <td>0.0</td>\n",
       "      <td>0.0</td>\n",
       "    </tr>\n",
       "    <tr>\n",
       "      <th>3</th>\n",
       "      <td>2017</td>\n",
       "      <td>4</td>\n",
       "      <td>HEAVEN HILL DISTILLERIES INC</td>\n",
       "      <td>10120</td>\n",
       "      <td>J W DANT BOURBON 100P - 1.75L</td>\n",
       "      <td>LIQUOR</td>\n",
       "      <td>0.0</td>\n",
       "      <td>0.0</td>\n",
       "    </tr>\n",
       "    <tr>\n",
       "      <th>4</th>\n",
       "      <td>2017</td>\n",
       "      <td>4</td>\n",
       "      <td>ROYAL WINE CORP</td>\n",
       "      <td>101664</td>\n",
       "      <td>RAMON CORDOVA RIOJA - 750ML</td>\n",
       "      <td>WINE</td>\n",
       "      <td>0.0</td>\n",
       "      <td>0.0</td>\n",
       "    </tr>\n",
       "  </tbody>\n",
       "</table>\n",
       "</div>"
      ],
      "text/plain": [
       "   YEAR  MONTH                    CONTRAGENT ARTICLE_CODE  \\\n",
       "0  2017      4               ROYAL WINE CORP       100200   \n",
       "1  2017      4      SANTA MARGHERITA USA INC       100749   \n",
       "2  2017      4            JIM BEAM BRANDS CO        10103   \n",
       "3  2017      4  HEAVEN HILL DISTILLERIES INC        10120   \n",
       "4  2017      4               ROYAL WINE CORP       101664   \n",
       "\n",
       "                            ARTICLE_NAME ARTICLE_GROUP  SALES  STORE_SALES  \n",
       "0                      GAMLA CAB - 750ML          WINE    0.0          0.0  \n",
       "1   SANTA MARGHERITA P/GRIG ALTO - 375ML          WINE    0.0          0.0  \n",
       "2  KNOB CREEK BOURBON 9YR - 100P - 375ML        LIQUOR    0.0          0.0  \n",
       "3          J W DANT BOURBON 100P - 1.75L        LIQUOR    0.0          0.0  \n",
       "4            RAMON CORDOVA RIOJA - 750ML          WINE    0.0          0.0  "
      ]
     },
     "execution_count": 4,
     "metadata": {},
     "output_type": "execute_result"
    }
   ],
   "source": [
    "df.head()"
   ]
  },
  {
   "cell_type": "markdown",
   "metadata": {},
   "source": [
    "### EDA"
   ]
  },
  {
   "cell_type": "code",
   "execution_count": 5,
   "metadata": {},
   "outputs": [
    {
     "name": "stdout",
     "output_type": "stream",
     "text": [
      "<class 'pandas.core.frame.DataFrame'>\n",
      "RangeIndex: 128355 entries, 0 to 128354\n",
      "Data columns (total 8 columns):\n",
      " #   Column         Non-Null Count   Dtype  \n",
      "---  ------         --------------   -----  \n",
      " 0   YEAR           128355 non-null  int64  \n",
      " 1   MONTH          128355 non-null  int64  \n",
      " 2   CONTRAGENT     128331 non-null  object \n",
      " 3   ARTICLE_CODE   128355 non-null  object \n",
      " 4   ARTICLE_NAME   128355 non-null  object \n",
      " 5   ARTICLE_GROUP  128354 non-null  object \n",
      " 6   SALES          128355 non-null  float64\n",
      " 7   STORE_SALES    128355 non-null  float64\n",
      "dtypes: float64(2), int64(2), object(4)\n",
      "memory usage: 7.8+ MB\n"
     ]
    }
   ],
   "source": [
    "df.info()"
   ]
  },
  {
   "cell_type": "markdown",
   "metadata": {},
   "source": [
    "Есть пропуски в CONTRAGENT и ARTICLE_GROUP. Посмотрим на них подробнее."
   ]
  },
  {
   "cell_type": "code",
   "execution_count": 6,
   "metadata": {},
   "outputs": [
    {
     "data": {
      "text/plain": [
       "333"
      ]
     },
     "execution_count": 6,
     "metadata": {},
     "output_type": "execute_result"
    }
   ],
   "source": [
    "df['CONTRAGENT'].nunique()"
   ]
  },
  {
   "cell_type": "code",
   "execution_count": 7,
   "metadata": {},
   "outputs": [
    {
     "data": {
      "text/html": [
       "<div>\n",
       "<style scoped>\n",
       "    .dataframe tbody tr th:only-of-type {\n",
       "        vertical-align: middle;\n",
       "    }\n",
       "\n",
       "    .dataframe tbody tr th {\n",
       "        vertical-align: top;\n",
       "    }\n",
       "\n",
       "    .dataframe thead th {\n",
       "        text-align: right;\n",
       "    }\n",
       "</style>\n",
       "<table border=\"1\" class=\"dataframe\">\n",
       "  <thead>\n",
       "    <tr style=\"text-align: right;\">\n",
       "      <th></th>\n",
       "      <th>YEAR</th>\n",
       "      <th>MONTH</th>\n",
       "      <th>CONTRAGENT</th>\n",
       "      <th>ARTICLE_CODE</th>\n",
       "      <th>ARTICLE_NAME</th>\n",
       "      <th>ARTICLE_GROUP</th>\n",
       "      <th>SALES</th>\n",
       "      <th>STORE_SALES</th>\n",
       "    </tr>\n",
       "  </thead>\n",
       "  <tbody>\n",
       "    <tr>\n",
       "      <th>19483</th>\n",
       "      <td>2017</td>\n",
       "      <td>6</td>\n",
       "      <td>NaN</td>\n",
       "      <td>1279</td>\n",
       "      <td>EMPTY WINE KEG - KEGS</td>\n",
       "      <td>DUNNAGE</td>\n",
       "      <td>0.0</td>\n",
       "      <td>-9.0</td>\n",
       "    </tr>\n",
       "    <tr>\n",
       "      <th>20056</th>\n",
       "      <td>2017</td>\n",
       "      <td>8</td>\n",
       "      <td>NaN</td>\n",
       "      <td>1279</td>\n",
       "      <td>EMPTY WINE KEG - KEGS</td>\n",
       "      <td>DUNNAGE</td>\n",
       "      <td>0.0</td>\n",
       "      <td>-5.0</td>\n",
       "    </tr>\n",
       "    <tr>\n",
       "      <th>32282</th>\n",
       "      <td>2017</td>\n",
       "      <td>6</td>\n",
       "      <td>NaN</td>\n",
       "      <td>BC</td>\n",
       "      <td>BEER CREDIT</td>\n",
       "      <td>REF</td>\n",
       "      <td>0.0</td>\n",
       "      <td>-58.0</td>\n",
       "    </tr>\n",
       "    <tr>\n",
       "      <th>32283</th>\n",
       "      <td>2017</td>\n",
       "      <td>6</td>\n",
       "      <td>NaN</td>\n",
       "      <td>WC</td>\n",
       "      <td>WINE CREDIT</td>\n",
       "      <td>REF</td>\n",
       "      <td>0.0</td>\n",
       "      <td>-8.0</td>\n",
       "    </tr>\n",
       "    <tr>\n",
       "      <th>45871</th>\n",
       "      <td>2017</td>\n",
       "      <td>8</td>\n",
       "      <td>NaN</td>\n",
       "      <td>BC</td>\n",
       "      <td>BEER CREDIT</td>\n",
       "      <td>REF</td>\n",
       "      <td>0.0</td>\n",
       "      <td>-699.0</td>\n",
       "    </tr>\n",
       "  </tbody>\n",
       "</table>\n",
       "</div>"
      ],
      "text/plain": [
       "       YEAR  MONTH CONTRAGENT ARTICLE_CODE           ARTICLE_NAME  \\\n",
       "19483  2017      6        NaN         1279  EMPTY WINE KEG - KEGS   \n",
       "20056  2017      8        NaN         1279  EMPTY WINE KEG - KEGS   \n",
       "32282  2017      6        NaN           BC            BEER CREDIT   \n",
       "32283  2017      6        NaN           WC            WINE CREDIT   \n",
       "45871  2017      8        NaN           BC            BEER CREDIT   \n",
       "\n",
       "      ARTICLE_GROUP  SALES  STORE_SALES  \n",
       "19483       DUNNAGE    0.0         -9.0  \n",
       "20056       DUNNAGE    0.0         -5.0  \n",
       "32282           REF    0.0        -58.0  \n",
       "32283           REF    0.0         -8.0  \n",
       "45871           REF    0.0       -699.0  "
      ]
     },
     "execution_count": 7,
     "metadata": {},
     "output_type": "execute_result"
    }
   ],
   "source": [
    "df[df['CONTRAGENT'].isna()].head()"
   ]
  },
  {
   "cell_type": "code",
   "execution_count": 8,
   "metadata": {},
   "outputs": [],
   "source": [
    "# Пропуски случайные, заполним спец значением\n",
    "df.loc[df['CONTRAGENT'].isna(),'CONTRAGENT'] = 'unknown'"
   ]
  },
  {
   "cell_type": "code",
   "execution_count": 9,
   "metadata": {},
   "outputs": [
    {
     "data": {
      "text/plain": [
       "(8,\n",
       " array(['WINE', 'LIQUOR', 'BEER', 'STR_SUPPLIES', 'REF', 'NON-ALCOHOL',\n",
       "        'KEGS', 'DUNNAGE', nan], dtype=object))"
      ]
     },
     "execution_count": 9,
     "metadata": {},
     "output_type": "execute_result"
    }
   ],
   "source": [
    "df['ARTICLE_GROUP'].nunique(), df['ARTICLE_GROUP'].unique()"
   ]
  },
  {
   "cell_type": "code",
   "execution_count": 10,
   "metadata": {},
   "outputs": [
    {
     "data": {
      "text/html": [
       "<div>\n",
       "<style scoped>\n",
       "    .dataframe tbody tr th:only-of-type {\n",
       "        vertical-align: middle;\n",
       "    }\n",
       "\n",
       "    .dataframe tbody tr th {\n",
       "        vertical-align: top;\n",
       "    }\n",
       "\n",
       "    .dataframe thead th {\n",
       "        text-align: right;\n",
       "    }\n",
       "</style>\n",
       "<table border=\"1\" class=\"dataframe\">\n",
       "  <thead>\n",
       "    <tr style=\"text-align: right;\">\n",
       "      <th></th>\n",
       "      <th>YEAR</th>\n",
       "      <th>MONTH</th>\n",
       "      <th>CONTRAGENT</th>\n",
       "      <th>ARTICLE_CODE</th>\n",
       "      <th>ARTICLE_NAME</th>\n",
       "      <th>ARTICLE_GROUP</th>\n",
       "      <th>SALES</th>\n",
       "      <th>STORE_SALES</th>\n",
       "    </tr>\n",
       "  </thead>\n",
       "  <tbody>\n",
       "    <tr>\n",
       "      <th>66439</th>\n",
       "      <td>2017</td>\n",
       "      <td>10</td>\n",
       "      <td>REPUBLIC NATIONAL DISTRIBUTING CO</td>\n",
       "      <td>347939</td>\n",
       "      <td>FONTANAFREDDA BAROLO SILVER LABEL 750 ML</td>\n",
       "      <td>NaN</td>\n",
       "      <td>0.0</td>\n",
       "      <td>1.0</td>\n",
       "    </tr>\n",
       "  </tbody>\n",
       "</table>\n",
       "</div>"
      ],
      "text/plain": [
       "       YEAR  MONTH                         CONTRAGENT ARTICLE_CODE  \\\n",
       "66439  2017     10  REPUBLIC NATIONAL DISTRIBUTING CO       347939   \n",
       "\n",
       "                                   ARTICLE_NAME ARTICLE_GROUP  SALES  \\\n",
       "66439  FONTANAFREDDA BAROLO SILVER LABEL 750 ML           NaN    0.0   \n",
       "\n",
       "       STORE_SALES  \n",
       "66439          1.0  "
      ]
     },
     "execution_count": 10,
     "metadata": {},
     "output_type": "execute_result"
    }
   ],
   "source": [
    "df[df['ARTICLE_GROUP'].isna()]"
   ]
  },
  {
   "cell_type": "code",
   "execution_count": 11,
   "metadata": {},
   "outputs": [],
   "source": [
    "# FONTANAFREDDA BAROLO SILVER LABEL это вино. Значит ARTICLE_GROUP этого товара - WINE\n",
    "df.loc[df['ARTICLE_GROUP'].isna(), 'ARTICLE_GROUP'] = 'WINE'"
   ]
  },
  {
   "cell_type": "code",
   "execution_count": 12,
   "metadata": {},
   "outputs": [
    {
     "data": {
      "text/plain": [
       "YEAR             0\n",
       "MONTH            0\n",
       "CONTRAGENT       0\n",
       "ARTICLE_CODE     0\n",
       "ARTICLE_NAME     0\n",
       "ARTICLE_GROUP    0\n",
       "SALES            0\n",
       "STORE_SALES      0\n",
       "dtype: int64"
      ]
     },
     "execution_count": 12,
     "metadata": {},
     "output_type": "execute_result"
    }
   ],
   "source": [
    "# пропусков в данных больше нет\n",
    "df.isna().sum()"
   ]
  },
  {
   "cell_type": "markdown",
   "metadata": {},
   "source": [
    "Посмотрим на переменные подробнее"
   ]
  },
  {
   "cell_type": "markdown",
   "metadata": {},
   "source": [
    "* 'YEAR', 'MONTH'"
   ]
  },
  {
   "cell_type": "code",
   "execution_count": 13,
   "metadata": {},
   "outputs": [
    {
     "data": {
      "text/plain": [
       "(array([2017, 2018], dtype=int64),\n",
       " array([ 4,  5, 10, 12,  2,  6,  8,  9, 11,  1], dtype=int64))"
      ]
     },
     "execution_count": 13,
     "metadata": {},
     "output_type": "execute_result"
    }
   ],
   "source": [
    "df['YEAR'].unique(), df['MONTH'].unique()"
   ]
  },
  {
   "cell_type": "code",
   "execution_count": 23,
   "metadata": {},
   "outputs": [
    {
     "data": {
      "text/plain": [
       "[4, 5, 6, 8, 9, 10, 11, 12]"
      ]
     },
     "execution_count": 23,
     "metadata": {},
     "output_type": "execute_result"
    }
   ],
   "source": [
    "sorted(df[df['YEAR'] == 2017]['MONTH'].unique()) # начало с 4 месяца, пропущен 7й месяц"
   ]
  },
  {
   "cell_type": "code",
   "execution_count": 24,
   "metadata": {},
   "outputs": [
    {
     "data": {
      "text/plain": [
       "[1, 2]"
      ]
     },
     "execution_count": 24,
     "metadata": {},
     "output_type": "execute_result"
    }
   ],
   "source": [
    "sorted(df[df['YEAR'] == 2018]['MONTH'].unique()) # только первые два месяца"
   ]
  },
  {
   "cell_type": "markdown",
   "metadata": {},
   "source": [
    "Данные представлены за 2 года, но не по всем месяцам"
   ]
  },
  {
   "cell_type": "markdown",
   "metadata": {},
   "source": [
    "* 'CONTRAGENT'"
   ]
  },
  {
   "cell_type": "code",
   "execution_count": 25,
   "metadata": {},
   "outputs": [
    {
     "data": {
      "image/png": "[encoded data removed]",
      "text/plain": [
       "<Figure size 1440x720 with 1 Axes>"
      ]
     },
     "metadata": {
      "needs_background": "light"
     },
     "output_type": "display_data"
    }
   ],
   "source": [
    "a = df.groupby('CONTRAGENT')['SALES'].sum().sort_values()\n",
    "b = a.tail(10)\n",
    "plt.barh(b.index, b.values)\n",
    "plt.title('ТОП10 контрагентов по продажам');"
   ]
  },
  {
   "cell_type": "code",
   "execution_count": 26,
   "metadata": {},
   "outputs": [
    {
     "data": {
      "image/png": "[encoded data removed]",
      "text/plain": [
       "<Figure size 1440x720 with 1 Axes>"
      ]
     },
     "metadata": {
      "needs_background": "light"
     },
     "output_type": "display_data"
    }
   ],
   "source": [
    "c = df.groupby('CONTRAGENT')['SALES'].count().sort_values()\n",
    "b = c.tail(10)\n",
    "plt.barh(b.index, b.values)\n",
    "plt.title('ТОП10 контрагентов по количеству продаж');"
   ]
  },
  {
   "cell_type": "markdown",
   "metadata": {},
   "source": [
    "Есть контрагенты, которые работают на разовый объем продаж, а есть те, кто продает как можно чаще, но не такими большими объемами - и это разные агенты"
   ]
  },
  {
   "cell_type": "code",
   "execution_count": 27,
   "metadata": {},
   "outputs": [
    {
     "name": "stdout",
     "output_type": "stream",
     "text": [
      "18 контрагентов с нулевыми продажами за весь период\n"
     ]
    }
   ],
   "source": [
    "print(f'{a[a == 0].count()} контрагентов с нулевыми продажами за весь период')"
   ]
  },
  {
   "cell_type": "markdown",
   "metadata": {},
   "source": [
    "* 'ARTICLE_CODE', 'ARTICLE_NAME'"
   ]
  },
  {
   "cell_type": "code",
   "execution_count": 28,
   "metadata": {},
   "outputs": [
    {
     "data": {
      "text/plain": [
       "(23556, 23624)"
      ]
     },
     "execution_count": 28,
     "metadata": {},
     "output_type": "execute_result"
    }
   ],
   "source": [
    "df['ARTICLE_CODE'].nunique(), df['ARTICLE_NAME'].nunique()"
   ]
  },
  {
   "cell_type": "markdown",
   "metadata": {},
   "source": [
    "Кодов продукции меньше, чем названий товаров, возможно из-за того, что некоторые имена товаров менялись"
   ]
  },
  {
   "cell_type": "code",
   "execution_count": 29,
   "metadata": {},
   "outputs": [],
   "source": [
    "a = df.groupby('ARTICLE_CODE')['SALES'].sum().sort_values()"
   ]
  },
  {
   "cell_type": "code",
   "execution_count": 30,
   "metadata": {},
   "outputs": [
    {
     "data": {
      "text/plain": [
       "(array(['CORONA EXTRA LOOSE NR - 12OZ', 'HEINEKEN LOOSE NR - 12OZ',\n",
       "        \"TITO'S HANDMADE VODKA - 1.75L\", 'CORONA EXTRA 4/6 NR - 12OZ',\n",
       "        'STELLA ARTOIS 4/6 NR - 11.2OZ'], dtype=object),\n",
       " array(['BEER', 'LIQUOR'], dtype=object))"
      ]
     },
     "execution_count": 30,
     "metadata": {},
     "output_type": "execute_result"
    }
   ],
   "source": [
    "df[df['ARTICLE_CODE'].isin(a.tail().index)]['ARTICLE_NAME'].unique(), \\\n",
    "df[df['ARTICLE_CODE'].isin(a.tail().index)]['ARTICLE_GROUP'].unique()"
   ]
  },
  {
   "cell_type": "code",
   "execution_count": 31,
   "metadata": {},
   "outputs": [
    {
     "data": {
      "text/plain": [
       "(array(['MASSIMO NEW ZELAND S/BLC - 750ML', 'BON APPETIT MUSCAT - 750ML',\n",
       "        'ZACA MESA SYR - 750ML', 'WEREWOLF CAB - 750ML',\n",
       "        'MARCHESI DI BAROLO BAROLO      31343 - 750ML'], dtype=object),\n",
       " array(['WINE'], dtype=object))"
      ]
     },
     "execution_count": 31,
     "metadata": {},
     "output_type": "execute_result"
    }
   ],
   "source": [
    "df[df['ARTICLE_CODE'].isin(a[a < 0].index)]['ARTICLE_NAME'].unique(), \\\n",
    "df[df['ARTICLE_CODE'].isin(a[a < 0].index)]['ARTICLE_GROUP'].unique()"
   ]
  },
  {
   "cell_type": "code",
   "execution_count": 32,
   "metadata": {},
   "outputs": [
    {
     "data": {
      "text/plain": [
       "11701"
      ]
     },
     "execution_count": 32,
     "metadata": {},
     "output_type": "execute_result"
    }
   ],
   "source": [
    "a[a == 0].shape[0]"
   ]
  },
  {
   "cell_type": "markdown",
   "metadata": {},
   "source": [
    "Лучше всего продается пиво и ликеры. Отрицательный показатель продаж (разбили до продаж?, просрочилось? - подумаю позже) у вин. У 11701 товара продажи на нуле. "
   ]
  },
  {
   "cell_type": "markdown",
   "metadata": {},
   "source": [
    "* 'ARTICLE_GROUP'"
   ]
  },
  {
   "cell_type": "code",
   "execution_count": 33,
   "metadata": {},
   "outputs": [
    {
     "data": {
      "text/plain": [
       "array(['WINE', 'LIQUOR', 'BEER', 'STR_SUPPLIES', 'REF', 'NON-ALCOHOL',\n",
       "       'KEGS', 'DUNNAGE'], dtype=object)"
      ]
     },
     "execution_count": 33,
     "metadata": {},
     "output_type": "execute_result"
    }
   ],
   "source": [
    "df['ARTICLE_GROUP'].unique() # 8 уникальных групп товаров"
   ]
  },
  {
   "cell_type": "code",
   "execution_count": 34,
   "metadata": {},
   "outputs": [
    {
     "data": {
      "image/png": "[encoded data removed]",
      "text/plain": [
       "<Figure size 720x360 with 1 Axes>"
      ]
     },
     "metadata": {
      "needs_background": "light"
     },
     "output_type": "display_data"
    }
   ],
   "source": [
    "a = df.groupby('ARTICLE_GROUP')['SALES'].sum().sort_values()\n",
    "plt.figure(figsize=(10, 5)) \n",
    "plt.bar(a.index, a.values)\n",
    "plt.title('Продажи по группам товаров');"
   ]
  },
  {
   "cell_type": "markdown",
   "metadata": {},
   "source": [
    "В основном продается активно вино, ликеры и пиво. dunnage и kegs имеют нулевые продажи"
   ]
  },
  {
   "cell_type": "markdown",
   "metadata": {},
   "source": [
    "* 'SALES'"
   ]
  },
  {
   "cell_type": "code",
   "execution_count": 35,
   "metadata": {},
   "outputs": [
    {
     "data": {
      "text/plain": [
       "0.0"
      ]
     },
     "execution_count": 35,
     "metadata": {},
     "output_type": "execute_result"
    }
   ],
   "source": [
    "df[(df['YEAR'] == 2017) & (df['MONTH'] == 4)]['SALES'].sum()"
   ]
  },
  {
   "cell_type": "markdown",
   "metadata": {},
   "source": [
    "Так как продажи (наш таргет) за этот период нулевые (возможно статистика по продажам еще не велась), то лучше удалить их из анализа, так как вряд ли реально все ничего не прдавали целый месяц"
   ]
  },
  {
   "cell_type": "code",
   "execution_count": 36,
   "metadata": {},
   "outputs": [],
   "source": [
    "df = df[~((df['YEAR'] == 2017) & (df['MONTH'] == 4))]"
   ]
  },
  {
   "cell_type": "code",
   "execution_count": 39,
   "metadata": {},
   "outputs": [
    {
     "data": {
      "image/png": "[encoded data removed]",
      "text/plain": [
       "<Figure size 1440x720 with 1 Axes>"
      ]
     },
     "metadata": {
      "needs_background": "light"
     },
     "output_type": "display_data"
    }
   ],
   "source": [
    "df.groupby(['YEAR', 'MONTH'])['SALES'].mean().plot(label='Средние продажи по месяцам')\n",
    "df.groupby(['YEAR', 'MONTH'])['SALES'].min().plot(label='Минимальные продажи по месяцам')\n",
    "df.groupby(['YEAR', 'MONTH'])['SALES'].quantile(0.25).plot(label='25% квантиль')\n",
    "df.groupby(['YEAR', 'MONTH'])['SALES'].quantile(0.5).plot(label='50% квантиль')\n",
    "df.groupby(['YEAR', 'MONTH'])['SALES'].quantile(0.75).plot(label='75% квантиль')\n",
    "plt.legend();"
   ]
  },
  {
   "cell_type": "markdown",
   "metadata": {},
   "source": [
    "За исключением одного пика в 12.2017 остальные средние продажи примерно на одном уровне. Отрицательные продажи сильно наблюдаются в 06.2017 и не так сильно в 11.2017 - похоже на цикл, но мало данных, чтобы это сказать точнее. Средние продажи лежат выше 75% квантиля, значит много высоких значений в продажах"
   ]
  },
  {
   "cell_type": "code",
   "execution_count": 40,
   "metadata": {},
   "outputs": [],
   "source": [
    "df.sort_values(['YEAR','MONTH'], inplace=True)"
   ]
  },
  {
   "cell_type": "code",
   "execution_count": 41,
   "metadata": {},
   "outputs": [
    {
     "data": {
      "text/html": [
       "<div>\n",
       "<style scoped>\n",
       "    .dataframe tbody tr th:only-of-type {\n",
       "        vertical-align: middle;\n",
       "    }\n",
       "\n",
       "    .dataframe tbody tr th {\n",
       "        vertical-align: top;\n",
       "    }\n",
       "\n",
       "    .dataframe thead th {\n",
       "        text-align: right;\n",
       "    }\n",
       "</style>\n",
       "<table border=\"1\" class=\"dataframe\">\n",
       "  <thead>\n",
       "    <tr style=\"text-align: right;\">\n",
       "      <th></th>\n",
       "      <th>YEAR</th>\n",
       "      <th>MONTH</th>\n",
       "      <th>CONTRAGENT</th>\n",
       "      <th>ARTICLE_CODE</th>\n",
       "      <th>ARTICLE_NAME</th>\n",
       "      <th>ARTICLE_GROUP</th>\n",
       "      <th>SALES</th>\n",
       "      <th>STORE_SALES</th>\n",
       "    </tr>\n",
       "  </thead>\n",
       "  <tbody>\n",
       "    <tr>\n",
       "      <th>9310</th>\n",
       "      <td>2017</td>\n",
       "      <td>5</td>\n",
       "      <td>PARK STREET IMPORTS LLC</td>\n",
       "      <td>314022</td>\n",
       "      <td>TANTEO CHIPOTLE TEQUILA - 750ML</td>\n",
       "      <td>LIQUOR</td>\n",
       "      <td>-1000.0</td>\n",
       "      <td>0.0</td>\n",
       "    </tr>\n",
       "    <tr>\n",
       "      <th>13439</th>\n",
       "      <td>2017</td>\n",
       "      <td>5</td>\n",
       "      <td>BACCHUS IMPORTERS LTD</td>\n",
       "      <td>41740</td>\n",
       "      <td>CLEAR CREEK S/M WHISKEY - 750ML</td>\n",
       "      <td>LIQUOR</td>\n",
       "      <td>-80.0</td>\n",
       "      <td>0.0</td>\n",
       "    </tr>\n",
       "    <tr>\n",
       "      <th>14361</th>\n",
       "      <td>2017</td>\n",
       "      <td>5</td>\n",
       "      <td>MHW LTD</td>\n",
       "      <td>46382</td>\n",
       "      <td>BOL'S CREME DE MINT WHITE - 750ML</td>\n",
       "      <td>LIQUOR</td>\n",
       "      <td>-80.0</td>\n",
       "      <td>0.0</td>\n",
       "    </tr>\n",
       "    <tr>\n",
       "      <th>14388</th>\n",
       "      <td>2017</td>\n",
       "      <td>5</td>\n",
       "      <td>PRESTIGE BEVERAGE GROUP OF MD LLC</td>\n",
       "      <td>46545</td>\n",
       "      <td>CATOCTIN CREEK MOSBYS SPIRIT - 750ML</td>\n",
       "      <td>LIQUOR</td>\n",
       "      <td>-1000.0</td>\n",
       "      <td>0.0</td>\n",
       "    </tr>\n",
       "    <tr>\n",
       "      <th>16099</th>\n",
       "      <td>2017</td>\n",
       "      <td>5</td>\n",
       "      <td>BACCHUS IMPORTERS LTD</td>\n",
       "      <td>72334</td>\n",
       "      <td>DOM CICCIO AND FIGLI FINOCCHIETO - 750ML</td>\n",
       "      <td>LIQUOR</td>\n",
       "      <td>-170.0</td>\n",
       "      <td>0.0</td>\n",
       "    </tr>\n",
       "    <tr>\n",
       "      <th>16623</th>\n",
       "      <td>2017</td>\n",
       "      <td>5</td>\n",
       "      <td>CAMPARI AMERICA LLC</td>\n",
       "      <td>77280</td>\n",
       "      <td>GRAND MARNIER 1880 - 750ML</td>\n",
       "      <td>LIQUOR</td>\n",
       "      <td>-160.0</td>\n",
       "      <td>0.0</td>\n",
       "    </tr>\n",
       "    <tr>\n",
       "      <th>17448</th>\n",
       "      <td>2017</td>\n",
       "      <td>5</td>\n",
       "      <td>DELICATO FAMILY VINEYARDS</td>\n",
       "      <td>82797</td>\n",
       "      <td>MASSIMO NEW ZELAND S/BLC - 750ML</td>\n",
       "      <td>WINE</td>\n",
       "      <td>-80.0</td>\n",
       "      <td>0.0</td>\n",
       "    </tr>\n",
       "    <tr>\n",
       "      <th>22389</th>\n",
       "      <td>2017</td>\n",
       "      <td>6</td>\n",
       "      <td>REPUBLIC NATIONAL DISTRIBUTING CO</td>\n",
       "      <td>30970</td>\n",
       "      <td>BRANCOTT MARL P/NOIR - 750ML</td>\n",
       "      <td>WINE</td>\n",
       "      <td>-250.0</td>\n",
       "      <td>0.0</td>\n",
       "    </tr>\n",
       "    <tr>\n",
       "      <th>26916</th>\n",
       "      <td>2017</td>\n",
       "      <td>6</td>\n",
       "      <td>MHW LTD</td>\n",
       "      <td>414050</td>\n",
       "      <td>FEUDI D'ALBE MONTEPUL D'ABRU - 750ML</td>\n",
       "      <td>WINE</td>\n",
       "      <td>-770.0</td>\n",
       "      <td>15.0</td>\n",
       "    </tr>\n",
       "    <tr>\n",
       "      <th>27136</th>\n",
       "      <td>2017</td>\n",
       "      <td>6</td>\n",
       "      <td>JIM BEAM BRANDS CO</td>\n",
       "      <td>42412</td>\n",
       "      <td>DEKUYPER SIGN VANILLA DELIGHT - 750ML</td>\n",
       "      <td>LIQUOR</td>\n",
       "      <td>-10.0</td>\n",
       "      <td>0.0</td>\n",
       "    </tr>\n",
       "    <tr>\n",
       "      <th>27270</th>\n",
       "      <td>2017</td>\n",
       "      <td>6</td>\n",
       "      <td>ROYAL WINE CORP</td>\n",
       "      <td>428930</td>\n",
       "      <td>BARON HERZOG P/GRIG - 750ML</td>\n",
       "      <td>WINE</td>\n",
       "      <td>-410.0</td>\n",
       "      <td>0.0</td>\n",
       "    </tr>\n",
       "    <tr>\n",
       "      <th>27404</th>\n",
       "      <td>2017</td>\n",
       "      <td>6</td>\n",
       "      <td>SOUTHERN GLAZERS WINE AND SPIRITS</td>\n",
       "      <td>433330</td>\n",
       "      <td>LEGENDE BORDEAUX RG - 750ML</td>\n",
       "      <td>WINE</td>\n",
       "      <td>-430.0</td>\n",
       "      <td>0.0</td>\n",
       "    </tr>\n",
       "    <tr>\n",
       "      <th>28018</th>\n",
       "      <td>2017</td>\n",
       "      <td>6</td>\n",
       "      <td>DIAGEO NORTH AMERICA INC</td>\n",
       "      <td>47466</td>\n",
       "      <td>DON JULIO TEQUILA - 70TH ANIVERSARY - 750ML</td>\n",
       "      <td>LIQUOR</td>\n",
       "      <td>-160.0</td>\n",
       "      <td>0.0</td>\n",
       "    </tr>\n",
       "    <tr>\n",
       "      <th>28246</th>\n",
       "      <td>2017</td>\n",
       "      <td>6</td>\n",
       "      <td>DUCKHORN WINE COMPANY</td>\n",
       "      <td>48880</td>\n",
       "      <td>DUCKHORN NAPA MER 12 - 750ML</td>\n",
       "      <td>WINE</td>\n",
       "      <td>-80.0</td>\n",
       "      <td>0.0</td>\n",
       "    </tr>\n",
       "    <tr>\n",
       "      <th>28893</th>\n",
       "      <td>2017</td>\n",
       "      <td>6</td>\n",
       "      <td>DIAGEO NORTH AMERICA INC</td>\n",
       "      <td>68675</td>\n",
       "      <td>CROWN ROYAL XTRA RARE 6/CS - 750ML</td>\n",
       "      <td>LIQUOR</td>\n",
       "      <td>-2470.0</td>\n",
       "      <td>0.0</td>\n",
       "    </tr>\n",
       "    <tr>\n",
       "      <th>29631</th>\n",
       "      <td>2017</td>\n",
       "      <td>6</td>\n",
       "      <td>A VINTNERS SELECTIONS</td>\n",
       "      <td>72373</td>\n",
       "      <td>STONEWALL RUM - 750ML</td>\n",
       "      <td>LIQUOR</td>\n",
       "      <td>-1840.0</td>\n",
       "      <td>0.0</td>\n",
       "    </tr>\n",
       "    <tr>\n",
       "      <th>31083</th>\n",
       "      <td>2017</td>\n",
       "      <td>6</td>\n",
       "      <td>KYSELA PERE ET FILS LTD</td>\n",
       "      <td>83432</td>\n",
       "      <td>KEERMONT RED BLEND '12</td>\n",
       "      <td>WINE</td>\n",
       "      <td>-6490.0</td>\n",
       "      <td>0.0</td>\n",
       "    </tr>\n",
       "    <tr>\n",
       "      <th>32752</th>\n",
       "      <td>2017</td>\n",
       "      <td>8</td>\n",
       "      <td>CONSTANTINE WINES INC</td>\n",
       "      <td>118680</td>\n",
       "      <td>WHITEHALL LANE NAPA VLY MER - 750ML</td>\n",
       "      <td>WINE</td>\n",
       "      <td>-250.0</td>\n",
       "      <td>0.0</td>\n",
       "    </tr>\n",
       "    <tr>\n",
       "      <th>39017</th>\n",
       "      <td>2017</td>\n",
       "      <td>8</td>\n",
       "      <td>JACKSON FAMILY ENTERPRISES INC</td>\n",
       "      <td>342450</td>\n",
       "      <td>K JACKSON AVANT RED BLEND - 750ML</td>\n",
       "      <td>WINE</td>\n",
       "      <td>-2000.0</td>\n",
       "      <td>0.0</td>\n",
       "    </tr>\n",
       "    <tr>\n",
       "      <th>42307</th>\n",
       "      <td>2017</td>\n",
       "      <td>8</td>\n",
       "      <td>REPUBLIC NATIONAL DISTRIBUTING CO</td>\n",
       "      <td>60690</td>\n",
       "      <td>ZACA MESA SYR - 750ML</td>\n",
       "      <td>WINE</td>\n",
       "      <td>-80.0</td>\n",
       "      <td>0.0</td>\n",
       "    </tr>\n",
       "    <tr>\n",
       "      <th>42803</th>\n",
       "      <td>2017</td>\n",
       "      <td>8</td>\n",
       "      <td>REPUBLIC NATIONAL DISTRIBUTING CO</td>\n",
       "      <td>70472</td>\n",
       "      <td>KAVALAN SINGLE MALT WHISKEY - 750ML</td>\n",
       "      <td>LIQUOR</td>\n",
       "      <td>-170.0</td>\n",
       "      <td>0.0</td>\n",
       "    </tr>\n",
       "    <tr>\n",
       "      <th>49324</th>\n",
       "      <td>2017</td>\n",
       "      <td>9</td>\n",
       "      <td>A VINTNERS SELECTIONS</td>\n",
       "      <td>306923</td>\n",
       "      <td>HUM BOTANICAL SPIRIT - 750ML</td>\n",
       "      <td>LIQUOR</td>\n",
       "      <td>-160.0</td>\n",
       "      <td>1.0</td>\n",
       "    </tr>\n",
       "    <tr>\n",
       "      <th>49404</th>\n",
       "      <td>2017</td>\n",
       "      <td>9</td>\n",
       "      <td>TRI-VIN IMPORTS</td>\n",
       "      <td>307920</td>\n",
       "      <td>WEREWOLF CAB - 750ML</td>\n",
       "      <td>WINE</td>\n",
       "      <td>-830.0</td>\n",
       "      <td>4.0</td>\n",
       "    </tr>\n",
       "    <tr>\n",
       "      <th>51699</th>\n",
       "      <td>2017</td>\n",
       "      <td>9</td>\n",
       "      <td>SOUTHERN GLAZERS WINE AND SPIRITS</td>\n",
       "      <td>335549</td>\n",
       "      <td>TY KU CUCUMBER - 720ML</td>\n",
       "      <td>WINE</td>\n",
       "      <td>-160.0</td>\n",
       "      <td>1.0</td>\n",
       "    </tr>\n",
       "    <tr>\n",
       "      <th>56704</th>\n",
       "      <td>2017</td>\n",
       "      <td>9</td>\n",
       "      <td>REPUBLIC NATIONAL DISTRIBUTING CO</td>\n",
       "      <td>72534</td>\n",
       "      <td>JEAN MARC XO VODKA -750ML</td>\n",
       "      <td>LIQUOR</td>\n",
       "      <td>-170.0</td>\n",
       "      <td>0.0</td>\n",
       "    </tr>\n",
       "    <tr>\n",
       "      <th>57706</th>\n",
       "      <td>2017</td>\n",
       "      <td>9</td>\n",
       "      <td>TREANA WINERY LLC</td>\n",
       "      <td>80838</td>\n",
       "      <td>TREANA RED - 750ML</td>\n",
       "      <td>WINE</td>\n",
       "      <td>-80.0</td>\n",
       "      <td>0.0</td>\n",
       "    </tr>\n",
       "    <tr>\n",
       "      <th>58043</th>\n",
       "      <td>2017</td>\n",
       "      <td>9</td>\n",
       "      <td>FETZER VINEYARDS</td>\n",
       "      <td>82880</td>\n",
       "      <td>JEKEL CHARD - 750ML</td>\n",
       "      <td>WINE</td>\n",
       "      <td>-80.0</td>\n",
       "      <td>0.0</td>\n",
       "    </tr>\n",
       "    <tr>\n",
       "      <th>72647</th>\n",
       "      <td>2017</td>\n",
       "      <td>10</td>\n",
       "      <td>MASS BAY BREWING CO</td>\n",
       "      <td>95109</td>\n",
       "      <td>HARPOON IPA 2/12 NR - 12OZ</td>\n",
       "      <td>BEER</td>\n",
       "      <td>-130.0</td>\n",
       "      <td>11.0</td>\n",
       "    </tr>\n",
       "    <tr>\n",
       "      <th>76331</th>\n",
       "      <td>2017</td>\n",
       "      <td>11</td>\n",
       "      <td>A VINTNERS SELECTIONS</td>\n",
       "      <td>304127</td>\n",
       "      <td>ANGELINE RES MER - 750ML</td>\n",
       "      <td>WINE</td>\n",
       "      <td>-1000.0</td>\n",
       "      <td>15.0</td>\n",
       "    </tr>\n",
       "    <tr>\n",
       "      <th>76406</th>\n",
       "      <td>2017</td>\n",
       "      <td>11</td>\n",
       "      <td>A VINTNERS SELECTIONS</td>\n",
       "      <td>305271</td>\n",
       "      <td>PAUL HOBBS CROSSBARN CHARD - 750ML</td>\n",
       "      <td>WINE</td>\n",
       "      <td>-170.0</td>\n",
       "      <td>1.0</td>\n",
       "    </tr>\n",
       "    <tr>\n",
       "      <th>79169</th>\n",
       "      <td>2017</td>\n",
       "      <td>11</td>\n",
       "      <td>DEUTSCH FAMILY WINE &amp; SPIRITS</td>\n",
       "      <td>335696</td>\n",
       "      <td>BIB &amp; TUCKER BOURBON - 750ML</td>\n",
       "      <td>LIQUOR</td>\n",
       "      <td>-1000.0</td>\n",
       "      <td>0.0</td>\n",
       "    </tr>\n",
       "    <tr>\n",
       "      <th>79209</th>\n",
       "      <td>2017</td>\n",
       "      <td>11</td>\n",
       "      <td>A VINTNERS SELECTIONS</td>\n",
       "      <td>335983</td>\n",
       "      <td>ARGIOLAS TURRIGA - 750ML</td>\n",
       "      <td>WINE</td>\n",
       "      <td>-330.0</td>\n",
       "      <td>0.0</td>\n",
       "    </tr>\n",
       "    <tr>\n",
       "      <th>81302</th>\n",
       "      <td>2017</td>\n",
       "      <td>11</td>\n",
       "      <td>LANTERNA DISTRIBUTORS INC</td>\n",
       "      <td>399370</td>\n",
       "      <td>DOM DE LA COLLONGE POU/FUISSE - 750ML</td>\n",
       "      <td>WINE</td>\n",
       "      <td>-10.0</td>\n",
       "      <td>3.0</td>\n",
       "    </tr>\n",
       "    <tr>\n",
       "      <th>83089</th>\n",
       "      <td>2017</td>\n",
       "      <td>11</td>\n",
       "      <td>REPUBLIC NATIONAL DISTRIBUTING CO</td>\n",
       "      <td>48693</td>\n",
       "      <td>BOOTLEGGER 21 VODKA - 750ML</td>\n",
       "      <td>LIQUOR</td>\n",
       "      <td>-170.0</td>\n",
       "      <td>0.0</td>\n",
       "    </tr>\n",
       "    <tr>\n",
       "      <th>83536</th>\n",
       "      <td>2017</td>\n",
       "      <td>11</td>\n",
       "      <td>PATERNO IMPORTS LTD</td>\n",
       "      <td>53007</td>\n",
       "      <td>SANFORD SANTA RITA HILLS CHARD -750ML</td>\n",
       "      <td>WINE</td>\n",
       "      <td>-1490.0</td>\n",
       "      <td>0.0</td>\n",
       "    </tr>\n",
       "    <tr>\n",
       "      <th>83572</th>\n",
       "      <td>2017</td>\n",
       "      <td>11</td>\n",
       "      <td>MOET HENNESSY USA</td>\n",
       "      <td>54119</td>\n",
       "      <td>KRUG GRAND CUVEE 6/CS - 750ML</td>\n",
       "      <td>WINE</td>\n",
       "      <td>-170.0</td>\n",
       "      <td>0.0</td>\n",
       "    </tr>\n",
       "    <tr>\n",
       "      <th>84705</th>\n",
       "      <td>2017</td>\n",
       "      <td>11</td>\n",
       "      <td>PROXIMO SPIRITS INC</td>\n",
       "      <td>71975</td>\n",
       "      <td>1800 SILVER TEQUILA - W/COASTER - 750ML</td>\n",
       "      <td>LIQUOR</td>\n",
       "      <td>-170.0</td>\n",
       "      <td>0.0</td>\n",
       "    </tr>\n",
       "    <tr>\n",
       "      <th>85120</th>\n",
       "      <td>2017</td>\n",
       "      <td>11</td>\n",
       "      <td>HEAVEN HILL DISTILLERIES INC</td>\n",
       "      <td>74860</td>\n",
       "      <td>PARKERS HERITAGE COLLECTION  - 750ML</td>\n",
       "      <td>LIQUOR</td>\n",
       "      <td>-1990.0</td>\n",
       "      <td>0.0</td>\n",
       "    </tr>\n",
       "    <tr>\n",
       "      <th>85127</th>\n",
       "      <td>2017</td>\n",
       "      <td>11</td>\n",
       "      <td>OPICI FAMILY DISTRIBUTING OF MD</td>\n",
       "      <td>74909</td>\n",
       "      <td>GLENCADAM 13YR SM SCOTCH - 750ML</td>\n",
       "      <td>LIQUOR</td>\n",
       "      <td>-330.0</td>\n",
       "      <td>0.0</td>\n",
       "    </tr>\n",
       "    <tr>\n",
       "      <th>91582</th>\n",
       "      <td>2017</td>\n",
       "      <td>12</td>\n",
       "      <td>LANTERNA DISTRIBUTORS INC</td>\n",
       "      <td>311511</td>\n",
       "      <td>CASSINELLI JEN'S VODKA - 750ML</td>\n",
       "      <td>LIQUOR</td>\n",
       "      <td>-90.0</td>\n",
       "      <td>0.0</td>\n",
       "    </tr>\n",
       "    <tr>\n",
       "      <th>92547</th>\n",
       "      <td>2017</td>\n",
       "      <td>12</td>\n",
       "      <td>YOUNG WON TRADING INC</td>\n",
       "      <td>322810</td>\n",
       "      <td>SHO CHUKU BAI MIO SPARK SAKE - 300ML</td>\n",
       "      <td>WINE</td>\n",
       "      <td>-420.0</td>\n",
       "      <td>1.0</td>\n",
       "    </tr>\n",
       "    <tr>\n",
       "      <th>93670</th>\n",
       "      <td>2017</td>\n",
       "      <td>12</td>\n",
       "      <td>SOUTHERN GLAZERS WINE AND SPIRITS</td>\n",
       "      <td>335694</td>\n",
       "      <td>DAOU RES CAB - 750ML</td>\n",
       "      <td>WINE</td>\n",
       "      <td>-170.0</td>\n",
       "      <td>1.0</td>\n",
       "    </tr>\n",
       "    <tr>\n",
       "      <th>104619</th>\n",
       "      <td>2018</td>\n",
       "      <td>1</td>\n",
       "      <td>LEGENDS LTD</td>\n",
       "      <td>28815</td>\n",
       "      <td>BALTIMORE BEER WORKS ANNABEL LEE WHITE 4/6 12....</td>\n",
       "      <td>BEER</td>\n",
       "      <td>-90.0</td>\n",
       "      <td>16.0</td>\n",
       "    </tr>\n",
       "    <tr>\n",
       "      <th>104804</th>\n",
       "      <td>2018</td>\n",
       "      <td>1</td>\n",
       "      <td>CHARLES JACQUIN ET CIE INC</td>\n",
       "      <td>29980</td>\n",
       "      <td>PENNSYLVANIA DUTCH EGG NOG - 750ML</td>\n",
       "      <td>LIQUOR</td>\n",
       "      <td>-10.0</td>\n",
       "      <td>0.0</td>\n",
       "    </tr>\n",
       "    <tr>\n",
       "      <th>109075</th>\n",
       "      <td>2018</td>\n",
       "      <td>1</td>\n",
       "      <td>LUNEAU USA INC</td>\n",
       "      <td>366927</td>\n",
       "      <td>CH MAGENCE WHITE GRAVES - 750ML</td>\n",
       "      <td>WINE</td>\n",
       "      <td>-250.0</td>\n",
       "      <td>0.0</td>\n",
       "    </tr>\n",
       "    <tr>\n",
       "      <th>109135</th>\n",
       "      <td>2018</td>\n",
       "      <td>1</td>\n",
       "      <td>A VINTNERS SELECTIONS</td>\n",
       "      <td>37311</td>\n",
       "      <td>CH PEYRAUD COTES DE BLAYE - 750ML</td>\n",
       "      <td>WINE</td>\n",
       "      <td>-170.0</td>\n",
       "      <td>1.0</td>\n",
       "    </tr>\n",
       "    <tr>\n",
       "      <th>111140</th>\n",
       "      <td>2018</td>\n",
       "      <td>1</td>\n",
       "      <td>QUINTESSENTIAL LLC</td>\n",
       "      <td>49310</td>\n",
       "      <td>ELSA CAB - 750ML</td>\n",
       "      <td>WINE</td>\n",
       "      <td>-580.0</td>\n",
       "      <td>2.0</td>\n",
       "    </tr>\n",
       "    <tr>\n",
       "      <th>114010</th>\n",
       "      <td>2018</td>\n",
       "      <td>1</td>\n",
       "      <td>MHW LTD</td>\n",
       "      <td>82442</td>\n",
       "      <td>CH DE LARDILEY CAB/ROSE - ORGANIC -750ML</td>\n",
       "      <td>WINE</td>\n",
       "      <td>-80.0</td>\n",
       "      <td>0.0</td>\n",
       "    </tr>\n",
       "    <tr>\n",
       "      <th>114111</th>\n",
       "      <td>2018</td>\n",
       "      <td>1</td>\n",
       "      <td>SUTTER HOME WINERY INC</td>\n",
       "      <td>83114</td>\n",
       "      <td>JARGON PINOT NOIR - 750ML</td>\n",
       "      <td>WINE</td>\n",
       "      <td>-80.0</td>\n",
       "      <td>6.0</td>\n",
       "    </tr>\n",
       "    <tr>\n",
       "      <th>115914</th>\n",
       "      <td>2018</td>\n",
       "      <td>2</td>\n",
       "      <td>LEGENDS LTD</td>\n",
       "      <td>13020</td>\n",
       "      <td>OMMEGANG 20TH ANNIVERSARY GIFT 3/25Z</td>\n",
       "      <td>BEER</td>\n",
       "      <td>-110.0</td>\n",
       "      <td>0.0</td>\n",
       "    </tr>\n",
       "    <tr>\n",
       "      <th>116212</th>\n",
       "      <td>2018</td>\n",
       "      <td>2</td>\n",
       "      <td>SOUTHERN GLAZERS WINE AND SPIRITS</td>\n",
       "      <td>165450</td>\n",
       "      <td>MARCHESI DI BAROLO BAROLO      31343 - 750ML</td>\n",
       "      <td>WINE</td>\n",
       "      <td>-250.0</td>\n",
       "      <td>0.0</td>\n",
       "    </tr>\n",
       "    <tr>\n",
       "      <th>119063</th>\n",
       "      <td>2018</td>\n",
       "      <td>2</td>\n",
       "      <td>DMV DISTRIBUTING LLC</td>\n",
       "      <td>312003</td>\n",
       "      <td>BON APPETIT MUSCAT - 750ML</td>\n",
       "      <td>WINE</td>\n",
       "      <td>-580.0</td>\n",
       "      <td>1.0</td>\n",
       "    </tr>\n",
       "    <tr>\n",
       "      <th>121007</th>\n",
       "      <td>2018</td>\n",
       "      <td>2</td>\n",
       "      <td>REPUBLIC NATIONAL DISTRIBUTING CO</td>\n",
       "      <td>338159</td>\n",
       "      <td>CARMEL ROAD DREW'S BLEND - 750ML</td>\n",
       "      <td>WINE</td>\n",
       "      <td>-80.0</td>\n",
       "      <td>0.0</td>\n",
       "    </tr>\n",
       "    <tr>\n",
       "      <th>124681</th>\n",
       "      <td>2018</td>\n",
       "      <td>2</td>\n",
       "      <td>DIAGEO NORTH AMERICA INC</td>\n",
       "      <td>58025</td>\n",
       "      <td>BAILEY'S IRISH CREAM W/GLASSES - 750ML</td>\n",
       "      <td>LIQUOR</td>\n",
       "      <td>-170.0</td>\n",
       "      <td>0.0</td>\n",
       "    </tr>\n",
       "    <tr>\n",
       "      <th>125521</th>\n",
       "      <td>2018</td>\n",
       "      <td>2</td>\n",
       "      <td>JIM BEAM BRANDS CO</td>\n",
       "      <td>70869</td>\n",
       "      <td>COURVOISIER GOLD COGNAC - 750ML</td>\n",
       "      <td>LIQUOR</td>\n",
       "      <td>-10.0</td>\n",
       "      <td>0.0</td>\n",
       "    </tr>\n",
       "  </tbody>\n",
       "</table>\n",
       "</div>"
      ],
      "text/plain": [
       "        YEAR  MONTH                         CONTRAGENT ARTICLE_CODE  \\\n",
       "9310    2017      5            PARK STREET IMPORTS LLC       314022   \n",
       "13439   2017      5              BACCHUS IMPORTERS LTD        41740   \n",
       "14361   2017      5                            MHW LTD        46382   \n",
       "14388   2017      5  PRESTIGE BEVERAGE GROUP OF MD LLC        46545   \n",
       "16099   2017      5              BACCHUS IMPORTERS LTD        72334   \n",
       "16623   2017      5                CAMPARI AMERICA LLC        77280   \n",
       "17448   2017      5          DELICATO FAMILY VINEYARDS        82797   \n",
       "22389   2017      6  REPUBLIC NATIONAL DISTRIBUTING CO        30970   \n",
       "26916   2017      6                            MHW LTD       414050   \n",
       "27136   2017      6                 JIM BEAM BRANDS CO        42412   \n",
       "27270   2017      6                    ROYAL WINE CORP       428930   \n",
       "27404   2017      6  SOUTHERN GLAZERS WINE AND SPIRITS       433330   \n",
       "28018   2017      6           DIAGEO NORTH AMERICA INC        47466   \n",
       "28246   2017      6              DUCKHORN WINE COMPANY        48880   \n",
       "28893   2017      6           DIAGEO NORTH AMERICA INC        68675   \n",
       "29631   2017      6              A VINTNERS SELECTIONS        72373   \n",
       "31083   2017      6            KYSELA PERE ET FILS LTD        83432   \n",
       "32752   2017      8              CONSTANTINE WINES INC       118680   \n",
       "39017   2017      8     JACKSON FAMILY ENTERPRISES INC       342450   \n",
       "42307   2017      8  REPUBLIC NATIONAL DISTRIBUTING CO        60690   \n",
       "42803   2017      8  REPUBLIC NATIONAL DISTRIBUTING CO        70472   \n",
       "49324   2017      9              A VINTNERS SELECTIONS       306923   \n",
       "49404   2017      9                    TRI-VIN IMPORTS       307920   \n",
       "51699   2017      9  SOUTHERN GLAZERS WINE AND SPIRITS       335549   \n",
       "56704   2017      9  REPUBLIC NATIONAL DISTRIBUTING CO        72534   \n",
       "57706   2017      9                  TREANA WINERY LLC        80838   \n",
       "58043   2017      9                   FETZER VINEYARDS        82880   \n",
       "72647   2017     10                MASS BAY BREWING CO        95109   \n",
       "76331   2017     11              A VINTNERS SELECTIONS       304127   \n",
       "76406   2017     11              A VINTNERS SELECTIONS       305271   \n",
       "79169   2017     11      DEUTSCH FAMILY WINE & SPIRITS       335696   \n",
       "79209   2017     11              A VINTNERS SELECTIONS       335983   \n",
       "81302   2017     11          LANTERNA DISTRIBUTORS INC       399370   \n",
       "83089   2017     11  REPUBLIC NATIONAL DISTRIBUTING CO        48693   \n",
       "83536   2017     11                PATERNO IMPORTS LTD        53007   \n",
       "83572   2017     11                  MOET HENNESSY USA        54119   \n",
       "84705   2017     11                PROXIMO SPIRITS INC        71975   \n",
       "85120   2017     11       HEAVEN HILL DISTILLERIES INC        74860   \n",
       "85127   2017     11    OPICI FAMILY DISTRIBUTING OF MD        74909   \n",
       "91582   2017     12          LANTERNA DISTRIBUTORS INC       311511   \n",
       "92547   2017     12              YOUNG WON TRADING INC       322810   \n",
       "93670   2017     12  SOUTHERN GLAZERS WINE AND SPIRITS       335694   \n",
       "104619  2018      1                        LEGENDS LTD        28815   \n",
       "104804  2018      1         CHARLES JACQUIN ET CIE INC        29980   \n",
       "109075  2018      1                     LUNEAU USA INC       366927   \n",
       "109135  2018      1              A VINTNERS SELECTIONS        37311   \n",
       "111140  2018      1                 QUINTESSENTIAL LLC        49310   \n",
       "114010  2018      1                            MHW LTD        82442   \n",
       "114111  2018      1             SUTTER HOME WINERY INC        83114   \n",
       "115914  2018      2                        LEGENDS LTD        13020   \n",
       "116212  2018      2  SOUTHERN GLAZERS WINE AND SPIRITS       165450   \n",
       "119063  2018      2               DMV DISTRIBUTING LLC       312003   \n",
       "121007  2018      2  REPUBLIC NATIONAL DISTRIBUTING CO       338159   \n",
       "124681  2018      2           DIAGEO NORTH AMERICA INC        58025   \n",
       "125521  2018      2                 JIM BEAM BRANDS CO        70869   \n",
       "\n",
       "                                             ARTICLE_NAME ARTICLE_GROUP  \\\n",
       "9310                      TANTEO CHIPOTLE TEQUILA - 750ML        LIQUOR   \n",
       "13439                     CLEAR CREEK S/M WHISKEY - 750ML        LIQUOR   \n",
       "14361                   BOL'S CREME DE MINT WHITE - 750ML        LIQUOR   \n",
       "14388                CATOCTIN CREEK MOSBYS SPIRIT - 750ML        LIQUOR   \n",
       "16099            DOM CICCIO AND FIGLI FINOCCHIETO - 750ML        LIQUOR   \n",
       "16623                          GRAND MARNIER 1880 - 750ML        LIQUOR   \n",
       "17448                    MASSIMO NEW ZELAND S/BLC - 750ML          WINE   \n",
       "22389                        BRANCOTT MARL P/NOIR - 750ML          WINE   \n",
       "26916                FEUDI D'ALBE MONTEPUL D'ABRU - 750ML          WINE   \n",
       "27136               DEKUYPER SIGN VANILLA DELIGHT - 750ML        LIQUOR   \n",
       "27270                         BARON HERZOG P/GRIG - 750ML          WINE   \n",
       "27404                         LEGENDE BORDEAUX RG - 750ML          WINE   \n",
       "28018         DON JULIO TEQUILA - 70TH ANIVERSARY - 750ML        LIQUOR   \n",
       "28246                        DUCKHORN NAPA MER 12 - 750ML          WINE   \n",
       "28893                  CROWN ROYAL XTRA RARE 6/CS - 750ML        LIQUOR   \n",
       "29631                               STONEWALL RUM - 750ML        LIQUOR   \n",
       "31083                              KEERMONT RED BLEND '12          WINE   \n",
       "32752                 WHITEHALL LANE NAPA VLY MER - 750ML          WINE   \n",
       "39017                   K JACKSON AVANT RED BLEND - 750ML          WINE   \n",
       "42307                               ZACA MESA SYR - 750ML          WINE   \n",
       "42803                 KAVALAN SINGLE MALT WHISKEY - 750ML        LIQUOR   \n",
       "49324                        HUM BOTANICAL SPIRIT - 750ML        LIQUOR   \n",
       "49404                                WEREWOLF CAB - 750ML          WINE   \n",
       "51699                              TY KU CUCUMBER - 720ML          WINE   \n",
       "56704                           JEAN MARC XO VODKA -750ML        LIQUOR   \n",
       "57706                                  TREANA RED - 750ML          WINE   \n",
       "58043                                 JEKEL CHARD - 750ML          WINE   \n",
       "72647                          HARPOON IPA 2/12 NR - 12OZ          BEER   \n",
       "76331                            ANGELINE RES MER - 750ML          WINE   \n",
       "76406                  PAUL HOBBS CROSSBARN CHARD - 750ML          WINE   \n",
       "79169                        BIB & TUCKER BOURBON - 750ML        LIQUOR   \n",
       "79209                            ARGIOLAS TURRIGA - 750ML          WINE   \n",
       "81302               DOM DE LA COLLONGE POU/FUISSE - 750ML          WINE   \n",
       "83089                         BOOTLEGGER 21 VODKA - 750ML        LIQUOR   \n",
       "83536               SANFORD SANTA RITA HILLS CHARD -750ML          WINE   \n",
       "83572                       KRUG GRAND CUVEE 6/CS - 750ML          WINE   \n",
       "84705             1800 SILVER TEQUILA - W/COASTER - 750ML        LIQUOR   \n",
       "85120                PARKERS HERITAGE COLLECTION  - 750ML        LIQUOR   \n",
       "85127                    GLENCADAM 13YR SM SCOTCH - 750ML        LIQUOR   \n",
       "91582                      CASSINELLI JEN'S VODKA - 750ML        LIQUOR   \n",
       "92547                SHO CHUKU BAI MIO SPARK SAKE - 300ML          WINE   \n",
       "93670                                DAOU RES CAB - 750ML          WINE   \n",
       "104619  BALTIMORE BEER WORKS ANNABEL LEE WHITE 4/6 12....          BEER   \n",
       "104804                 PENNSYLVANIA DUTCH EGG NOG - 750ML        LIQUOR   \n",
       "109075                    CH MAGENCE WHITE GRAVES - 750ML          WINE   \n",
       "109135                  CH PEYRAUD COTES DE BLAYE - 750ML          WINE   \n",
       "111140                                   ELSA CAB - 750ML          WINE   \n",
       "114010           CH DE LARDILEY CAB/ROSE - ORGANIC -750ML          WINE   \n",
       "114111                          JARGON PINOT NOIR - 750ML          WINE   \n",
       "115914               OMMEGANG 20TH ANNIVERSARY GIFT 3/25Z          BEER   \n",
       "116212       MARCHESI DI BAROLO BAROLO      31343 - 750ML          WINE   \n",
       "119063                         BON APPETIT MUSCAT - 750ML          WINE   \n",
       "121007                   CARMEL ROAD DREW'S BLEND - 750ML          WINE   \n",
       "124681             BAILEY'S IRISH CREAM W/GLASSES - 750ML        LIQUOR   \n",
       "125521                    COURVOISIER GOLD COGNAC - 750ML        LIQUOR   \n",
       "\n",
       "         SALES  STORE_SALES  \n",
       "9310   -1000.0          0.0  \n",
       "13439    -80.0          0.0  \n",
       "14361    -80.0          0.0  \n",
       "14388  -1000.0          0.0  \n",
       "16099   -170.0          0.0  \n",
       "16623   -160.0          0.0  \n",
       "17448    -80.0          0.0  \n",
       "22389   -250.0          0.0  \n",
       "26916   -770.0         15.0  \n",
       "27136    -10.0          0.0  \n",
       "27270   -410.0          0.0  \n",
       "27404   -430.0          0.0  \n",
       "28018   -160.0          0.0  \n",
       "28246    -80.0          0.0  \n",
       "28893  -2470.0          0.0  \n",
       "29631  -1840.0          0.0  \n",
       "31083  -6490.0          0.0  \n",
       "32752   -250.0          0.0  \n",
       "39017  -2000.0          0.0  \n",
       "42307    -80.0          0.0  \n",
       "42803   -170.0          0.0  \n",
       "49324   -160.0          1.0  \n",
       "49404   -830.0          4.0  \n",
       "51699   -160.0          1.0  \n",
       "56704   -170.0          0.0  \n",
       "57706    -80.0          0.0  \n",
       "58043    -80.0          0.0  \n",
       "72647   -130.0         11.0  \n",
       "76331  -1000.0         15.0  \n",
       "76406   -170.0          1.0  \n",
       "79169  -1000.0          0.0  \n",
       "79209   -330.0          0.0  \n",
       "81302    -10.0          3.0  \n",
       "83089   -170.0          0.0  \n",
       "83536  -1490.0          0.0  \n",
       "83572   -170.0          0.0  \n",
       "84705   -170.0          0.0  \n",
       "85120  -1990.0          0.0  \n",
       "85127   -330.0          0.0  \n",
       "91582    -90.0          0.0  \n",
       "92547   -420.0          1.0  \n",
       "93670   -170.0          1.0  \n",
       "104619   -90.0         16.0  \n",
       "104804   -10.0          0.0  \n",
       "109075  -250.0          0.0  \n",
       "109135  -170.0          1.0  \n",
       "111140  -580.0          2.0  \n",
       "114010   -80.0          0.0  \n",
       "114111   -80.0          6.0  \n",
       "115914  -110.0          0.0  \n",
       "116212  -250.0          0.0  \n",
       "119063  -580.0          1.0  \n",
       "121007   -80.0          0.0  \n",
       "124681  -170.0          0.0  \n",
       "125521   -10.0          0.0  "
      ]
     },
     "execution_count": 41,
     "metadata": {},
     "output_type": "execute_result"
    }
   ],
   "source": [
    "df[df['SALES'] < 0]"
   ]
  },
  {
   "cell_type": "markdown",
   "metadata": {},
   "source": [
    "Есть немного данных с отрицательными продажами. Это может быть, например, ошибка при транспортировке/хранении (разбили бутылку), истечение срока годности и т.д. Предполагаю, что это списанная продукция, которую уже невозможно продать. Так же возможно, что это возврат, но при условии, что алкогольные напитки разрешено возвращать, что вряд ли."
   ]
  },
  {
   "cell_type": "code",
   "execution_count": 44,
   "metadata": {},
   "outputs": [
    {
     "data": {
      "image/png": "[encoded data removed]",
      "text/plain": [
       "<Figure size 1440x720 with 1 Axes>"
      ]
     },
     "metadata": {
      "needs_background": "light"
     },
     "output_type": "display_data"
    }
   ],
   "source": [
    "df.groupby(['YEAR', 'MONTH'])['SALES'].sum().plot(kind='bar',title='Суммарные продажи по месяцам');"
   ]
  },
  {
   "cell_type": "markdown",
   "metadata": {},
   "source": [
    "В суммарных продажах есть пик 12.2017 и далее спад - на новый год очень большой спрос на алкоголь :)"
   ]
  },
  {
   "cell_type": "code",
   "execution_count": 45,
   "metadata": {},
   "outputs": [
    {
     "data": {
      "text/plain": [
       "count    1.231600e+05\n",
       "mean     6.839872e+03\n",
       "std      2.949661e+04\n",
       "min     -6.490000e+03\n",
       "25%      0.000000e+00\n",
       "50%      4.000000e+02\n",
       "75%      3.600000e+03\n",
       "max      1.616600e+06\n",
       "Name: SALES, dtype: float64"
      ]
     },
     "execution_count": 45,
     "metadata": {},
     "output_type": "execute_result"
    }
   ],
   "source": [
    "df['SALES'].describe()"
   ]
  },
  {
   "cell_type": "code",
   "execution_count": 46,
   "metadata": {},
   "outputs": [
    {
     "data": {
      "image/png": "[encoded data removed]",
      "text/plain": [
       "<Figure size 144x288 with 1 Axes>"
      ]
     },
     "metadata": {
      "needs_background": "light"
     },
     "output_type": "display_data"
    }
   ],
   "source": [
    "plt.figure(figsize=(2, 4))\n",
    "plt.boxplot(df['SALES']);"
   ]
  },
  {
   "cell_type": "markdown",
   "metadata": {},
   "source": [
    "Очень большой разброс значений"
   ]
  },
  {
   "cell_type": "code",
   "execution_count": 47,
   "metadata": {},
   "outputs": [
    {
     "data": {
      "image/png": "[encoded data removed]",
      "text/plain": [
       "<Figure size 288x216 with 1 Axes>"
      ]
     },
     "metadata": {
      "needs_background": "light"
     },
     "output_type": "display_data"
    }
   ],
   "source": [
    "# распределение\n",
    "plt.figure(figsize=(4, 3)) \n",
    "df['SALES'].hist();"
   ]
  },
  {
   "cell_type": "markdown",
   "metadata": {},
   "source": [
    "Распределение данных не нормальное (оно похоже на Пуассоновское), надо это учесть в модели"
   ]
  },
  {
   "cell_type": "markdown",
   "metadata": {},
   "source": [
    "* 'STORE_SALES'"
   ]
  },
  {
   "cell_type": "code",
   "execution_count": 48,
   "metadata": {},
   "outputs": [
    {
     "data": {
      "text/html": [
       "<div>\n",
       "<style scoped>\n",
       "    .dataframe tbody tr th:only-of-type {\n",
       "        vertical-align: middle;\n",
       "    }\n",
       "\n",
       "    .dataframe tbody tr th {\n",
       "        vertical-align: top;\n",
       "    }\n",
       "\n",
       "    .dataframe thead th {\n",
       "        text-align: right;\n",
       "    }\n",
       "</style>\n",
       "<table border=\"1\" class=\"dataframe\">\n",
       "  <thead>\n",
       "    <tr style=\"text-align: right;\">\n",
       "      <th></th>\n",
       "      <th>STORE_SALES</th>\n",
       "      <th>SALES</th>\n",
       "    </tr>\n",
       "  </thead>\n",
       "  <tbody>\n",
       "    <tr>\n",
       "      <th>STORE_SALES</th>\n",
       "      <td>1.000000</td>\n",
       "      <td>0.459465</td>\n",
       "    </tr>\n",
       "    <tr>\n",
       "      <th>SALES</th>\n",
       "      <td>0.459465</td>\n",
       "      <td>1.000000</td>\n",
       "    </tr>\n",
       "  </tbody>\n",
       "</table>\n",
       "</div>"
      ],
      "text/plain": [
       "             STORE_SALES     SALES\n",
       "STORE_SALES     1.000000  0.459465\n",
       "SALES           0.459465  1.000000"
      ]
     },
     "execution_count": 48,
     "metadata": {},
     "output_type": "execute_result"
    }
   ],
   "source": [
    "# проверка не одно ли тоже это -> нет\n",
    "df[['STORE_SALES','SALES']].corr()"
   ]
  },
  {
   "cell_type": "code",
   "execution_count": 49,
   "metadata": {},
   "outputs": [
    {
     "data": {
      "text/plain": [
       "count    123160.000000\n",
       "mean         23.578522\n",
       "std         244.650361\n",
       "min       -4996.000000\n",
       "25%           0.000000\n",
       "50%           1.000000\n",
       "75%           4.920000\n",
       "max       16271.750000\n",
       "Name: STORE_SALES, dtype: float64"
      ]
     },
     "execution_count": 49,
     "metadata": {},
     "output_type": "execute_result"
    }
   ],
   "source": [
    "df['STORE_SALES'].describe()"
   ]
  },
  {
   "cell_type": "code",
   "execution_count": 50,
   "metadata": {},
   "outputs": [
    {
     "data": {
      "text/plain": [
       "YEAR  MONTH\n",
       "2017  5        27.310548\n",
       "      6        27.839069\n",
       "      8        28.122641\n",
       "      9        22.817909\n",
       "      10       22.289367\n",
       "      11       23.348862\n",
       "      12       21.169463\n",
       "2018  1        19.072137\n",
       "      2        20.229658\n",
       "Name: STORE_SALES, dtype: float64"
      ]
     },
     "execution_count": 50,
     "metadata": {},
     "output_type": "execute_result"
    }
   ],
   "source": [
    "df.groupby(['YEAR', 'MONTH'])['STORE_SALES'].mean()"
   ]
  },
  {
   "cell_type": "code",
   "execution_count": 53,
   "metadata": {},
   "outputs": [
    {
     "data": {
      "image/png": "[encoded data removed]",
      "text/plain": [
       "<Figure size 1440x720 with 1 Axes>"
      ]
     },
     "metadata": {
      "needs_background": "light"
     },
     "output_type": "display_data"
    }
   ],
   "source": [
    "df.groupby(['YEAR', 'MONTH'])['STORE_SALES'].mean().plot(label='Средние продажи по магазинам по месяцам')\n",
    "df.groupby(['YEAR', 'MONTH'])['STORE_SALES'].min().plot(label='Минимальные продажи по магазинам по месяцам')\n",
    "df.groupby(['YEAR', 'MONTH'])['STORE_SALES'].max().plot(label='Максимальные продажи по магазинам по месяцам')\n",
    "#plt.yscale('log')\n",
    "plt.legend();"
   ]
  },
  {
   "cell_type": "markdown",
   "metadata": {},
   "source": [
    "Средние продажи по магазинам маленькие, в то время как макстималбные и минимальные выделяются сильно, т.е. очень высокая дисперсия в данных "
   ]
  },
  {
   "cell_type": "code",
   "execution_count": 54,
   "metadata": {
    "scrolled": true
   },
   "outputs": [
    {
     "data": {
      "image/png": "[encoded data removed]",
      "text/plain": [
       "<Figure size 288x216 with 1 Axes>"
      ]
     },
     "metadata": {
      "needs_background": "light"
     },
     "output_type": "display_data"
    }
   ],
   "source": [
    "# распределение\n",
    "plt.figure(figsize=(4, 3)) \n",
    "df['STORE_SALES'].hist();"
   ]
  },
  {
   "cell_type": "markdown",
   "metadata": {},
   "source": [
    "Распределение данных аналогично предыдущему не нормальное"
   ]
  },
  {
   "cell_type": "code",
   "execution_count": 55,
   "metadata": {},
   "outputs": [
    {
     "data": {
      "image/png": "[encoded data removed]",
      "text/plain": [
       "<Figure size 1440x720 with 1 Axes>"
      ]
     },
     "metadata": {
      "needs_background": "light"
     },
     "output_type": "display_data"
    }
   ],
   "source": [
    "df.groupby(['YEAR', 'MONTH'])['STORE_SALES'].sum().plot(kind='bar',title='Суммарные продажи по магазинам по месяцам');"
   ]
  },
  {
   "cell_type": "markdown",
   "metadata": {},
   "source": [
    "По суммарным продажам по магазинам картина отличная от продаж по товарам. Новый год у них не самый удачный, да и в принципе продажи идут на спад"
   ]
  },
  {
   "cell_type": "markdown",
   "metadata": {},
   "source": [
    "### Model"
   ]
  },
  {
   "cell_type": "code",
   "execution_count": 56,
   "metadata": {},
   "outputs": [],
   "source": [
    "test = df[(df['YEAR'] == 2018) & (df['MONTH'] == 2)].copy()\n",
    "y_test = test['SALES']\n",
    "X_test = test.drop(['SALES'], axis=1)\n",
    "\n",
    "df_new = df[~((df['YEAR'] == 2018) & (df['MONTH'] == 2))] #wo test\n",
    "val = df[(df['YEAR'] == 2018) & (df['MONTH'] == 1)]\n",
    "y_val = val['SALES']\n",
    "X_val = val.drop(['SALES'], axis=1)\n",
    "\n",
    "train = df_new[~((df_new['YEAR'] == 2018) & (df_new['MONTH'] == 1))]\n",
    "y_train = train['SALES']\n",
    "X_train = train.drop(['SALES'], axis=1)"
   ]
  },
  {
   "cell_type": "markdown",
   "metadata": {},
   "source": [
    "Попробуем простую модель: последнее значение по группе товара + среднее изменение"
   ]
  },
  {
   "cell_type": "code",
   "execution_count": 57,
   "metadata": {},
   "outputs": [],
   "source": [
    "mean_sales = df_new.groupby(['YEAR','MONTH','ARTICLE_CODE'])['SALES'].mean()\n",
    "diff_mean_sales = mean_sales.groupby('ARTICLE_CODE').diff()\n",
    "delta = diff_mean_sales.groupby('ARTICLE_CODE').mean()"
   ]
  },
  {
   "cell_type": "code",
   "execution_count": 58,
   "metadata": {},
   "outputs": [],
   "source": [
    "mean_sales = pd.DataFrame(mean_sales)\n",
    "mean_sales.reset_index(inplace=True)\n",
    "total = mean_sales[(mean_sales['YEAR'] == 2018)].merge(delta, on=['ARTICLE_CODE'], suffixes=('','_delta'))\n",
    "total['SALES_new'] = total['SALES'] + total['SALES_delta']"
   ]
  },
  {
   "cell_type": "code",
   "execution_count": 59,
   "metadata": {},
   "outputs": [],
   "source": [
    "test_pred = X_test[['ARTICLE_CODE']].merge(total[['ARTICLE_CODE','SALES_new']], how='left', on='ARTICLE_CODE')"
   ]
  },
  {
   "cell_type": "code",
   "execution_count": 60,
   "metadata": {},
   "outputs": [],
   "source": [
    "# для товаров, которых не было в трейне предскажим аналогично, но по категориям:\n",
    "mean_sales = df_new.groupby(['YEAR','MONTH','ARTICLE_GROUP'])['SALES'].mean()\n",
    "diff_mean_sales = mean_sales.groupby('ARTICLE_GROUP').diff()\n",
    "delta = diff_mean_sales.groupby('ARTICLE_GROUP').mean()\n",
    "\n",
    "mean_sales = pd.DataFrame(mean_sales)\n",
    "mean_sales.reset_index(inplace=True)\n",
    "total = mean_sales[(mean_sales['YEAR'] == 2018)].merge(delta, on=['ARTICLE_GROUP'], suffixes=('','_delta'))\n",
    "total['SALES_new'] = total['SALES'] + total['SALES_delta']"
   ]
  },
  {
   "cell_type": "code",
   "execution_count": 61,
   "metadata": {},
   "outputs": [],
   "source": [
    "nan_index = test_pred.loc[test_pred['SALES_new'].isna()].index\n",
    "test_pred.loc[test_pred['SALES_new'].isna(), 'SALES_new'] = \\\n",
    "    X_test[['ARTICLE_GROUP']].merge(total[['ARTICLE_GROUP','SALES_new']], \n",
    "                                    how='left', on='ARTICLE_GROUP').loc[nan_index,'SALES_new']"
   ]
  },
  {
   "cell_type": "code",
   "execution_count": 62,
   "metadata": {},
   "outputs": [],
   "source": [
    "test_pred = test_pred['SALES_new']"
   ]
  },
  {
   "cell_type": "code",
   "execution_count": 63,
   "metadata": {},
   "outputs": [
    {
     "data": {
      "text/plain": [
       "54.19740477217869"
      ]
     },
     "execution_count": 63,
     "metadata": {},
     "output_type": "execute_result"
    }
   ],
   "source": [
    "# посчитаем метрику\n",
    "metric(y_test.values, test_pred.values)"
   ]
  },
  {
   "cell_type": "markdown",
   "metadata": {},
   "source": [
    "Теперь попробуем сделать модель посильнее"
   ]
  },
  {
   "cell_type": "code",
   "execution_count": 76,
   "metadata": {},
   "outputs": [],
   "source": [
    "cat_cols = ['CONTRAGENT', 'ARTICLE_CODE', 'ARTICLE_NAME', 'ARTICLE_GROUP']"
   ]
  },
  {
   "cell_type": "code",
   "execution_count": 77,
   "metadata": {},
   "outputs": [],
   "source": [
    "te = TargetEncoder()\n",
    "X_target_encoded = te.fit_transform(X_train[cat_cols], y_train)\n",
    "X_val_encoded = te.transform(X_val[cat_cols])\n",
    "\n",
    "X_train = X_train[['YEAR', 'MONTH', 'STORE_SALES']].join(X_target_encoded)\n",
    "X_val = X_val[['YEAR', 'MONTH', 'STORE_SALES']].join(X_val_encoded)"
   ]
  },
  {
   "cell_type": "code",
   "execution_count": 78,
   "metadata": {},
   "outputs": [],
   "source": [
    "# define random hyperparammeters\n",
    "params = {\n",
    "    'boosting_type': 'gbdt',\n",
    "    'metric': 'mape',\n",
    "    'objective': 'regression', \n",
    "    'n_jobs': -1,\n",
    "    'seed': 0,\n",
    "    'learning_rate': 0.1,\n",
    "    'bagging_fraction': 0.75,\n",
    "    'bagging_freq': 10, \n",
    "    'colsample_bytree': 0.75}\n",
    "\n",
    "train_set = lgb.Dataset(X_train, y_train)\n",
    "val_set = lgb.Dataset(X_val, y_val)"
   ]
  },
  {
   "cell_type": "code",
   "execution_count": 79,
   "metadata": {},
   "outputs": [
    {
     "name": "stdout",
     "output_type": "stream",
     "text": [
      "[LightGBM] [Warning] Auto-choosing row-wise multi-threading, the overhead of testing was 0.000629 seconds.\n",
      "You can set `force_row_wise=true` to remove the overhead.\n",
      "And if memory is not enough, you can set `force_col_wise=true`.\n",
      "[LightGBM] [Info] Total Bins 960\n",
      "[LightGBM] [Info] Number of data points in the train set: 96715, number of used features: 6\n",
      "[LightGBM] [Info] Start training from score 7121.984904\n",
      "Training until validation scores don't improve for 50 rounds\n",
      "[100]\ttraining's mape: 112.434\tvalid_1's mape: 112.02\n",
      "[200]\ttraining's mape: 91.7469\tvalid_1's mape: 90.6267\n",
      "Early stopping, best iteration is:\n",
      "[166]\ttraining's mape: 91.8221\tvalid_1's mape: 88.3579\n"
     ]
    }
   ],
   "source": [
    "model = lgb.train(params, train_set, num_boost_round = 2500, early_stopping_rounds = 50, \n",
    "                  valid_sets = [train_set, val_set], verbose_eval = 100)"
   ]
  },
  {
   "cell_type": "code",
   "execution_count": 80,
   "metadata": {},
   "outputs": [],
   "source": [
    "# собираем вместе\n",
    "df_new_target_encoded = te.fit_transform(df_new[cat_cols], df_new['SALES'])\n",
    "test_encoded = te.transform(X_test[cat_cols])\n",
    "\n",
    "df_new = df_new[['YEAR', 'MONTH', 'STORE_SALES']].join(df_new_target_encoded)\n",
    "test = test[['YEAR', 'MONTH', 'STORE_SALES']].join(test_encoded)"
   ]
  },
  {
   "cell_type": "code",
   "execution_count": 81,
   "metadata": {},
   "outputs": [],
   "source": [
    "test_pred = model.predict(test)"
   ]
  },
  {
   "cell_type": "code",
   "execution_count": 82,
   "metadata": {},
   "outputs": [
    {
     "data": {
      "text/plain": [
       "38.639957047793814"
      ]
     },
     "execution_count": 82,
     "metadata": {},
     "output_type": "execute_result"
    }
   ],
   "source": [
    "metric(y_test.values, test_pred)"
   ]
  },
  {
   "cell_type": "markdown",
   "metadata": {},
   "source": [
    "Качество стало лучше благодаря кодировке категориальных переменных и использованию lgb модели."
   ]
  },
  {
   "cell_type": "markdown",
   "metadata": {},
   "source": [
    "Попробуем ту же модель, но с учетом ненормального распределения данных"
   ]
  },
  {
   "cell_type": "code",
   "execution_count": 83,
   "metadata": {},
   "outputs": [],
   "source": [
    "test = df[(df['YEAR'] == 2018) & (df['MONTH'] == 2)].copy()\n",
    "y_test = test['SALES']\n",
    "X_test = test.drop(['SALES'], axis=1)\n",
    "\n",
    "df_new = df[~((df['YEAR'] == 2018) & (df['MONTH'] == 2))] #wo test\n",
    "val = df[(df['YEAR'] == 2018) & (df['MONTH'] == 1)]\n",
    "y_val = val['SALES']\n",
    "X_val = val.drop(['SALES'], axis=1)\n",
    "\n",
    "train = df_new[~((df_new['YEAR'] == 2018) & (df_new['MONTH'] == 1))]\n",
    "y_train = train['SALES']\n",
    "X_train = train.drop(['SALES'], axis=1)"
   ]
  },
  {
   "cell_type": "code",
   "execution_count": 84,
   "metadata": {},
   "outputs": [],
   "source": [
    "te = TargetEncoder()\n",
    "X_target_encoded = te.fit_transform(X_train[cat_cols], y_train)\n",
    "X_val_encoded = te.transform(X_val[cat_cols])\n",
    "\n",
    "X_train = X_train[['YEAR', 'MONTH', 'STORE_SALES']].join(X_target_encoded)\n",
    "X_val = X_val[['YEAR', 'MONTH', 'STORE_SALES']].join(X_val_encoded)"
   ]
  },
  {
   "cell_type": "code",
   "execution_count": 85,
   "metadata": {},
   "outputs": [],
   "source": [
    "const = np.abs(y_train.min())"
   ]
  },
  {
   "cell_type": "code",
   "execution_count": 86,
   "metadata": {},
   "outputs": [],
   "source": [
    "# define random hyperparammeters\n",
    "params = {\n",
    "    'boosting_type': 'gbdt',\n",
    "    'metric': 'mape',\n",
    "    'objective': 'tweedie', ###\n",
    "    'n_jobs': -1,\n",
    "    'seed': 0,\n",
    "    'learning_rate': 0.15,\n",
    "    'bagging_fraction': 0.8,\n",
    "    'bagging_freq': 5, \n",
    "    'colsample_bytree': 0.75\n",
    "}\n",
    "\n",
    "train_set = lgb.Dataset(X_train, y_train+const)\n",
    "val_set = lgb.Dataset(X_val, y_val+const)"
   ]
  },
  {
   "cell_type": "code",
   "execution_count": 87,
   "metadata": {},
   "outputs": [
    {
     "name": "stdout",
     "output_type": "stream",
     "text": [
      "[LightGBM] [Warning] Auto-choosing row-wise multi-threading, the overhead of testing was 0.000588 seconds.\n",
      "You can set `force_row_wise=true` to remove the overhead.\n",
      "And if memory is not enough, you can set `force_col_wise=true`.\n",
      "[LightGBM] [Info] Total Bins 960\n",
      "[LightGBM] [Info] Number of data points in the train set: 96715, number of used features: 6\n",
      "[LightGBM] [Info] Start training from score 9.518706\n",
      "Training until validation scores don't improve for 50 rounds\n",
      "[100]\ttraining's mape: 0.166295\tvalid_1's mape: 0.13834\n",
      "Early stopping, best iteration is:\n",
      "[89]\ttraining's mape: 0.166619\tvalid_1's mape: 0.137709\n"
     ]
    }
   ],
   "source": [
    "model = lgb.train(params, train_set, num_boost_round = 2500, early_stopping_rounds = 50, \n",
    "                  valid_sets = [train_set, val_set], verbose_eval = 100)"
   ]
  },
  {
   "cell_type": "code",
   "execution_count": 88,
   "metadata": {},
   "outputs": [],
   "source": [
    "# собираем вместе\n",
    "df_new_target_encoded = te.fit_transform(df_new[cat_cols], df_new['SALES'])\n",
    "test_encoded = te.transform(X_test[cat_cols])\n",
    "\n",
    "df_new = df_new[['YEAR', 'MONTH', 'STORE_SALES']].join(df_new_target_encoded)\n",
    "test = test[['YEAR', 'MONTH', 'STORE_SALES']].join(test_encoded)"
   ]
  },
  {
   "cell_type": "code",
   "execution_count": 89,
   "metadata": {},
   "outputs": [],
   "source": [
    "test_pred = model.predict(test)"
   ]
  },
  {
   "cell_type": "code",
   "execution_count": 90,
   "metadata": {},
   "outputs": [
    {
     "data": {
      "text/plain": [
       "38.67922916239318"
      ]
     },
     "execution_count": 90,
     "metadata": {},
     "output_type": "execute_result"
    }
   ],
   "source": [
    "metric(y_test.values, test_pred - const)"
   ]
  },
  {
   "cell_type": "markdown",
   "metadata": {},
   "source": [
    "Получилось то же качество, что и ранее"
   ]
  },
  {
   "cell_type": "code",
   "execution_count": null,
   "metadata": {},
   "outputs": [],
   "source": []
  }
 ],
 "metadata": {
  "kernelspec": {
   "display_name": "Python 3",
   "language": "python",
   "name": "python3"
  },
  "language_info": {
   "codemirror_mode": {
    "name": "ipython",
    "version": 3
   },
   "file_extension": ".py",
   "mimetype": "text/x-python",
   "name": "python",
   "nbconvert_exporter": "python",
   "pygments_lexer": "ipython3",
   "version": "3.8.3"
  }
 },
 "nbformat": 4,
 "nbformat_minor": 4
}
